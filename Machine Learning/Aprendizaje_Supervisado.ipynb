{
  "cells": [
    {
      "cell_type": "markdown",
      "metadata": {
        "id": "Kc_vZII9WDhz"
      },
      "source": [
        "# Importación de librerías"
      ]
    },
    {
      "cell_type": "code",
      "execution_count": null,
      "metadata": {
        "id": "3omuRaq4-b4L"
      },
      "outputs": [],
      "source": [
        "# Importa las librerías a nuestro entorno de trabajo\n",
        "import numpy as np\n",
        "import pandas as pd\n",
        "import seaborn as sb\n",
        "import statsmodels.api as sm\n",
        "import matplotlib.pyplot as plt\n",
        "import statistics\n",
        "from sklearn import linear_model, model_selection\n",
        "from sklearn.metrics import mean_squared_error, r2_score, classification_report, confusion_matrix, accuracy_score, roc_auc_score\n",
        "import sklearn.metrics as metrics\n",
        "from sklearn.model_selection import train_test_split\n",
        "from sklearn.impute import KNNImputer\n",
        "from sklearn.neighbors import KNeighborsClassifier\n",
        "from sklearn.linear_model import LinearRegression\n",
        "from sklearn.preprocessing import StandardScaler\n",
        "from sklearn.preprocessing import MinMaxScaler\n",
        "from sklearn.decomposition import PCA\n",
        "from sklearn.tree import DecisionTreeClassifier\n",
        "from sklearn.ensemble import RandomForestClassifier\n",
        "from sklearn.linear_model import LogisticRegression\n",
        "from imblearn.combine import SMOTETomek\n",
        "from collections import Counter\n",
        "from imblearn.ensemble import BalancedBaggingClassifier\n",
        "\n",
        "from pylab import rcParams\n",
        " \n",
        "from imblearn.under_sampling import NearMiss\n",
        "from imblearn.over_sampling import RandomOverSampler\n",
        "from imblearn.combine import SMOTETomek\n",
        "from imblearn.ensemble import BalancedBaggingClassifier"
      ]
    },
    {
      "cell_type": "markdown",
      "metadata": {
        "id": "Cgm0XzzUWNaE"
      },
      "source": [
        "# Simplificado de base de datos y transformación del dataframe"
      ]
    },
    {
      "cell_type": "markdown",
      "metadata": {
        "id": "tLlzJh1i3EWi"
      },
      "source": [
        "Pasos a seguir:\n",
        "1. Subir archivo.xlsx de forma local\n",
        "2. Lectura del archivo.xlsx y creación de dataframe\n",
        "3. Creación de nuevo dataframe simplificado que contenga columnas especificas del dataframe de origen\n",
        "4. Conversión del nuevo dataframe simplificado a tipo csv\n",
        "5. Descargar dataframe.csv simplificado \n",
        "6. Utilizar nuevo dataframe simplificado para futuras ejecuciones\n",
        "\n",
        "Con esto estamos simplificando la base de datos utilizando solo las columnas que son necesarias según el enunciado, pasando de 574 columnas a solo 62. Además, se está disminuyendo el tiempo de carga del archivo al subirse de forma local, y el tiempo de lectura para crear el dataframe.\n"
      ]
    },
    {
      "cell_type": "code",
      "execution_count": null,
      "metadata": {
        "id": "vrArnIfDEQLH"
      },
      "outputs": [],
      "source": [
        "#Subiendo archivo.xlsx de forma local\n",
        "#from google.colab import files\n",
        "#uploaded = files.upload()"
      ]
    },
    {
      "cell_type": "code",
      "execution_count": null,
      "metadata": {
        "id": "YNMz10r0A7Ix"
      },
      "outputs": [],
      "source": [
        "#Definiendo archivo\n",
        "#archivo = 'Base_clientes_Monopoly.xlsx'\n",
        "#Lectura de la base de datos y creación del data frame\n",
        "#dataframe=pd.read_excel(archivo, sheet_name='Transición de Negocio')"
      ]
    },
    {
      "cell_type": "code",
      "execution_count": null,
      "metadata": {
        "id": "q00lh7tErjgI"
      },
      "outputs": [],
      "source": [
        "#Creación de nuevo dataframe simplificado con columnas especificas del enunciado\n",
        "\n",
        "#df = dataframe[['Id', 'Region','Renta', 'Sexo', 'Subsegmento', 'Edad', 'Adicional', 'Antiguedad', 'CambioPin', 'Consumo', 'Debito', 'Ctacte', 'Cuentas', 'Hipotecario', 'Internauta',\n",
        "#                'Monoproducto', 'TC', 'Dualidad', 'CUPO_L1', 'CUPO_MX', 'CUPO_L2', 'Col_T12', 'ColL1TE_T12', 'EeccInt_T12', 'EeccNac_T12', 'Fac_T12', 'FacAI_T12', 'FacAN_T12', \n",
        "#                'FacCCOT_T12', 'FacCCPC_T12', 'FacCI_T12', 'FacCN_T12', 'FacCOL_T12', 'FacDebAtm_T12', 'FacDebCom_T12', 'FacPAT_T12', 'FlgAct_T12', 'FlgActAI_T12', 'FlgActAN_T12', \n",
        "#                'FlgActCCOT_T12', 'FlgActCCPC_T12', 'FlgActCI_T12', 'FlgActCN_T12', 'FlgActCOL_T12', 'FlgActPAT_T12', 'PagoInt_T12', 'PagoNac_T12', 'Txs_T12', 'TxsAI_T12', 'TxsAN_T12',\n",
        "#                'TxsCCOT_T12', 'TxsCCPC_T12', 'TxsCI_T12', 'TxsCN_T12', 'TxsCOL_T12', 'TxsDebAtm_T12', 'TxsDebCom_T12', 'TxsPAT_T12', 'UsoL1_T12', 'UsoL2_T12', 'UsoLI_T12', 'target']].copy()\n",
        "\n",
        "#Transformación de dataframe a tipo csv y guardado del mismo en la memoria para posteriormente ser descargado\n",
        "\n",
        "#df.to_csv('Base_clientes_Monopoly(Simplified).csv', index=False, encoding='utf-8')"
      ]
    },
    {
      "cell_type": "markdown",
      "metadata": {
        "id": "KpXNw7cY9kVs"
      },
      "source": [
        "#Creación del nuevo dataframe con archivo.csv simplificado\n"
      ]
    },
    {
      "cell_type": "code",
      "execution_count": null,
      "metadata": {
        "colab": {
          "base_uri": "https://localhost:8080/",
          "height": 73
        },
        "id": "MMnaaqF29tMs",
        "outputId": "f0650f9c-9378-488e-e5d4-abbcbad805b5"
      },
      "outputs": [
        {
          "data": {
            "text/html": [
              "\n",
              "     <input type=\"file\" id=\"files-fbca1fde-07f7-4e43-a5de-c2220ce372bc\" name=\"files[]\" multiple disabled\n",
              "        style=\"border:none\" />\n",
              "     <output id=\"result-fbca1fde-07f7-4e43-a5de-c2220ce372bc\">\n",
              "      Upload widget is only available when the cell has been executed in the\n",
              "      current browser session. Please rerun this cell to enable.\n",
              "      </output>\n",
              "      <script>// Copyright 2017 Google LLC\n",
              "//\n",
              "// Licensed under the Apache License, Version 2.0 (the \"License\");\n",
              "// you may not use this file except in compliance with the License.\n",
              "// You may obtain a copy of the License at\n",
              "//\n",
              "//      http://www.apache.org/licenses/LICENSE-2.0\n",
              "//\n",
              "// Unless required by applicable law or agreed to in writing, software\n",
              "// distributed under the License is distributed on an \"AS IS\" BASIS,\n",
              "// WITHOUT WARRANTIES OR CONDITIONS OF ANY KIND, either express or implied.\n",
              "// See the License for the specific language governing permissions and\n",
              "// limitations under the License.\n",
              "\n",
              "/**\n",
              " * @fileoverview Helpers for google.colab Python module.\n",
              " */\n",
              "(function(scope) {\n",
              "function span(text, styleAttributes = {}) {\n",
              "  const element = document.createElement('span');\n",
              "  element.textContent = text;\n",
              "  for (const key of Object.keys(styleAttributes)) {\n",
              "    element.style[key] = styleAttributes[key];\n",
              "  }\n",
              "  return element;\n",
              "}\n",
              "\n",
              "// Max number of bytes which will be uploaded at a time.\n",
              "const MAX_PAYLOAD_SIZE = 100 * 1024;\n",
              "\n",
              "function _uploadFiles(inputId, outputId) {\n",
              "  const steps = uploadFilesStep(inputId, outputId);\n",
              "  const outputElement = document.getElementById(outputId);\n",
              "  // Cache steps on the outputElement to make it available for the next call\n",
              "  // to uploadFilesContinue from Python.\n",
              "  outputElement.steps = steps;\n",
              "\n",
              "  return _uploadFilesContinue(outputId);\n",
              "}\n",
              "\n",
              "// This is roughly an async generator (not supported in the browser yet),\n",
              "// where there are multiple asynchronous steps and the Python side is going\n",
              "// to poll for completion of each step.\n",
              "// This uses a Promise to block the python side on completion of each step,\n",
              "// then passes the result of the previous step as the input to the next step.\n",
              "function _uploadFilesContinue(outputId) {\n",
              "  const outputElement = document.getElementById(outputId);\n",
              "  const steps = outputElement.steps;\n",
              "\n",
              "  const next = steps.next(outputElement.lastPromiseValue);\n",
              "  return Promise.resolve(next.value.promise).then((value) => {\n",
              "    // Cache the last promise value to make it available to the next\n",
              "    // step of the generator.\n",
              "    outputElement.lastPromiseValue = value;\n",
              "    return next.value.response;\n",
              "  });\n",
              "}\n",
              "\n",
              "/**\n",
              " * Generator function which is called between each async step of the upload\n",
              " * process.\n",
              " * @param {string} inputId Element ID of the input file picker element.\n",
              " * @param {string} outputId Element ID of the output display.\n",
              " * @return {!Iterable<!Object>} Iterable of next steps.\n",
              " */\n",
              "function* uploadFilesStep(inputId, outputId) {\n",
              "  const inputElement = document.getElementById(inputId);\n",
              "  inputElement.disabled = false;\n",
              "\n",
              "  const outputElement = document.getElementById(outputId);\n",
              "  outputElement.innerHTML = '';\n",
              "\n",
              "  const pickedPromise = new Promise((resolve) => {\n",
              "    inputElement.addEventListener('change', (e) => {\n",
              "      resolve(e.target.files);\n",
              "    });\n",
              "  });\n",
              "\n",
              "  const cancel = document.createElement('button');\n",
              "  inputElement.parentElement.appendChild(cancel);\n",
              "  cancel.textContent = 'Cancel upload';\n",
              "  const cancelPromise = new Promise((resolve) => {\n",
              "    cancel.onclick = () => {\n",
              "      resolve(null);\n",
              "    };\n",
              "  });\n",
              "\n",
              "  // Wait for the user to pick the files.\n",
              "  const files = yield {\n",
              "    promise: Promise.race([pickedPromise, cancelPromise]),\n",
              "    response: {\n",
              "      action: 'starting',\n",
              "    }\n",
              "  };\n",
              "\n",
              "  cancel.remove();\n",
              "\n",
              "  // Disable the input element since further picks are not allowed.\n",
              "  inputElement.disabled = true;\n",
              "\n",
              "  if (!files) {\n",
              "    return {\n",
              "      response: {\n",
              "        action: 'complete',\n",
              "      }\n",
              "    };\n",
              "  }\n",
              "\n",
              "  for (const file of files) {\n",
              "    const li = document.createElement('li');\n",
              "    li.append(span(file.name, {fontWeight: 'bold'}));\n",
              "    li.append(span(\n",
              "        `(${file.type || 'n/a'}) - ${file.size} bytes, ` +\n",
              "        `last modified: ${\n",
              "            file.lastModifiedDate ? file.lastModifiedDate.toLocaleDateString() :\n",
              "                                    'n/a'} - `));\n",
              "    const percent = span('0% done');\n",
              "    li.appendChild(percent);\n",
              "\n",
              "    outputElement.appendChild(li);\n",
              "\n",
              "    const fileDataPromise = new Promise((resolve) => {\n",
              "      const reader = new FileReader();\n",
              "      reader.onload = (e) => {\n",
              "        resolve(e.target.result);\n",
              "      };\n",
              "      reader.readAsArrayBuffer(file);\n",
              "    });\n",
              "    // Wait for the data to be ready.\n",
              "    let fileData = yield {\n",
              "      promise: fileDataPromise,\n",
              "      response: {\n",
              "        action: 'continue',\n",
              "      }\n",
              "    };\n",
              "\n",
              "    // Use a chunked sending to avoid message size limits. See b/62115660.\n",
              "    let position = 0;\n",
              "    do {\n",
              "      const length = Math.min(fileData.byteLength - position, MAX_PAYLOAD_SIZE);\n",
              "      const chunk = new Uint8Array(fileData, position, length);\n",
              "      position += length;\n",
              "\n",
              "      const base64 = btoa(String.fromCharCode.apply(null, chunk));\n",
              "      yield {\n",
              "        response: {\n",
              "          action: 'append',\n",
              "          file: file.name,\n",
              "          data: base64,\n",
              "        },\n",
              "      };\n",
              "\n",
              "      let percentDone = fileData.byteLength === 0 ?\n",
              "          100 :\n",
              "          Math.round((position / fileData.byteLength) * 100);\n",
              "      percent.textContent = `${percentDone}% done`;\n",
              "\n",
              "    } while (position < fileData.byteLength);\n",
              "  }\n",
              "\n",
              "  // All done.\n",
              "  yield {\n",
              "    response: {\n",
              "      action: 'complete',\n",
              "    }\n",
              "  };\n",
              "}\n",
              "\n",
              "scope.google = scope.google || {};\n",
              "scope.google.colab = scope.google.colab || {};\n",
              "scope.google.colab._files = {\n",
              "  _uploadFiles,\n",
              "  _uploadFilesContinue,\n",
              "};\n",
              "})(self);\n",
              "</script> "
            ],
            "text/plain": [
              "<IPython.core.display.HTML object>"
            ]
          },
          "metadata": {},
          "output_type": "display_data"
        },
        {
          "name": "stdout",
          "output_type": "stream",
          "text": [
            "Saving Base_clientes_Monopoly(Simplified).csv to Base_clientes_Monopoly(Simplified).csv\n"
          ]
        }
      ],
      "source": [
        "# Subiendo nuevo archivo de forma local\n",
        "from google.colab import files\n",
        "uploaded = files.upload()\n",
        "#Creación del dataframe\n",
        "df = pd.read_csv('Base_clientes_Monopoly(Simplified).csv', sep=',')"
      ]
    },
    {
      "cell_type": "markdown",
      "metadata": {
        "id": "JwM068TgDX2_"
      },
      "source": [
        "# Análisis Exploratorio"
      ]
    },
    {
      "cell_type": "code",
      "execution_count": null,
      "metadata": {
        "colab": {
          "base_uri": "https://localhost:8080/",
          "height": 300
        },
        "id": "NspmUw4eMJUy",
        "outputId": "8321a803-876e-45e1-e0b3-223a52b0fbbd"
      },
      "outputs": [
        {
          "data": {
            "text/html": [
              "\n",
              "  <div id=\"df-0afa9fa9-8fee-4421-b9ba-bff9c3cdd7d6\">\n",
              "    <div class=\"colab-df-container\">\n",
              "      <div>\n",
              "<style scoped>\n",
              "    .dataframe tbody tr th:only-of-type {\n",
              "        vertical-align: middle;\n",
              "    }\n",
              "\n",
              "    .dataframe tbody tr th {\n",
              "        vertical-align: top;\n",
              "    }\n",
              "\n",
              "    .dataframe thead th {\n",
              "        text-align: right;\n",
              "    }\n",
              "</style>\n",
              "<table border=\"1\" class=\"dataframe\">\n",
              "  <thead>\n",
              "    <tr style=\"text-align: right;\">\n",
              "      <th></th>\n",
              "      <th>Id</th>\n",
              "      <th>Region</th>\n",
              "      <th>Renta</th>\n",
              "      <th>Sexo</th>\n",
              "      <th>Subsegmento</th>\n",
              "      <th>Edad</th>\n",
              "      <th>Adicional</th>\n",
              "      <th>Antiguedad</th>\n",
              "      <th>CambioPin</th>\n",
              "      <th>Consumo</th>\n",
              "      <th>...</th>\n",
              "      <th>TxsCI_T12</th>\n",
              "      <th>TxsCN_T12</th>\n",
              "      <th>TxsCOL_T12</th>\n",
              "      <th>TxsDebAtm_T12</th>\n",
              "      <th>TxsDebCom_T12</th>\n",
              "      <th>TxsPAT_T12</th>\n",
              "      <th>UsoL1_T12</th>\n",
              "      <th>UsoL2_T12</th>\n",
              "      <th>UsoLI_T12</th>\n",
              "      <th>target</th>\n",
              "    </tr>\n",
              "  </thead>\n",
              "  <tbody>\n",
              "    <tr>\n",
              "      <th>0</th>\n",
              "      <td>1</td>\n",
              "      <td>13.0</td>\n",
              "      <td>NaN</td>\n",
              "      <td>M</td>\n",
              "      <td>160</td>\n",
              "      <td>43</td>\n",
              "      <td>1</td>\n",
              "      <td>130</td>\n",
              "      <td>NaN</td>\n",
              "      <td>0</td>\n",
              "      <td>...</td>\n",
              "      <td>0.0</td>\n",
              "      <td>3.0</td>\n",
              "      <td>0.0</td>\n",
              "      <td>6.0</td>\n",
              "      <td>30.0</td>\n",
              "      <td>0.0</td>\n",
              "      <td>731768.0</td>\n",
              "      <td>25890.0</td>\n",
              "      <td>0.0</td>\n",
              "      <td>0</td>\n",
              "    </tr>\n",
              "    <tr>\n",
              "      <th>1</th>\n",
              "      <td>2</td>\n",
              "      <td>13.0</td>\n",
              "      <td>143640.0</td>\n",
              "      <td>H</td>\n",
              "      <td>160</td>\n",
              "      <td>46</td>\n",
              "      <td>0</td>\n",
              "      <td>69</td>\n",
              "      <td>NaN</td>\n",
              "      <td>0</td>\n",
              "      <td>...</td>\n",
              "      <td>0.0</td>\n",
              "      <td>1.0</td>\n",
              "      <td>0.0</td>\n",
              "      <td>0.0</td>\n",
              "      <td>0.0</td>\n",
              "      <td>0.0</td>\n",
              "      <td>244876.0</td>\n",
              "      <td>284632.0</td>\n",
              "      <td>0.0</td>\n",
              "      <td>0</td>\n",
              "    </tr>\n",
              "    <tr>\n",
              "      <th>2</th>\n",
              "      <td>3</td>\n",
              "      <td>13.0</td>\n",
              "      <td>929106.0</td>\n",
              "      <td>H</td>\n",
              "      <td>170</td>\n",
              "      <td>45</td>\n",
              "      <td>1</td>\n",
              "      <td>24</td>\n",
              "      <td>1.0</td>\n",
              "      <td>0</td>\n",
              "      <td>...</td>\n",
              "      <td>0.0</td>\n",
              "      <td>3.0</td>\n",
              "      <td>0.0</td>\n",
              "      <td>16.0</td>\n",
              "      <td>5.0</td>\n",
              "      <td>0.0</td>\n",
              "      <td>94415.0</td>\n",
              "      <td>0.0</td>\n",
              "      <td>0.0</td>\n",
              "      <td>0</td>\n",
              "    </tr>\n",
              "    <tr>\n",
              "      <th>3</th>\n",
              "      <td>4</td>\n",
              "      <td>13.0</td>\n",
              "      <td>172447.0</td>\n",
              "      <td>H</td>\n",
              "      <td>151</td>\n",
              "      <td>46</td>\n",
              "      <td>1</td>\n",
              "      <td>134</td>\n",
              "      <td>1.0</td>\n",
              "      <td>0</td>\n",
              "      <td>...</td>\n",
              "      <td>0.0</td>\n",
              "      <td>3.0</td>\n",
              "      <td>0.0</td>\n",
              "      <td>0.0</td>\n",
              "      <td>0.0</td>\n",
              "      <td>0.0</td>\n",
              "      <td>358807.0</td>\n",
              "      <td>14660.0</td>\n",
              "      <td>0.0</td>\n",
              "      <td>0</td>\n",
              "    </tr>\n",
              "    <tr>\n",
              "      <th>4</th>\n",
              "      <td>5</td>\n",
              "      <td>13.0</td>\n",
              "      <td>805250.0</td>\n",
              "      <td>H</td>\n",
              "      <td>170</td>\n",
              "      <td>46</td>\n",
              "      <td>1</td>\n",
              "      <td>116</td>\n",
              "      <td>1.0</td>\n",
              "      <td>0</td>\n",
              "      <td>...</td>\n",
              "      <td>0.0</td>\n",
              "      <td>6.0</td>\n",
              "      <td>0.0</td>\n",
              "      <td>0.0</td>\n",
              "      <td>0.0</td>\n",
              "      <td>0.0</td>\n",
              "      <td>67516.0</td>\n",
              "      <td>234211.0</td>\n",
              "      <td>0.0</td>\n",
              "      <td>0</td>\n",
              "    </tr>\n",
              "  </tbody>\n",
              "</table>\n",
              "<p>5 rows × 62 columns</p>\n",
              "</div>\n",
              "      <button class=\"colab-df-convert\" onclick=\"convertToInteractive('df-0afa9fa9-8fee-4421-b9ba-bff9c3cdd7d6')\"\n",
              "              title=\"Convert this dataframe to an interactive table.\"\n",
              "              style=\"display:none;\">\n",
              "        \n",
              "  <svg xmlns=\"http://www.w3.org/2000/svg\" height=\"24px\"viewBox=\"0 0 24 24\"\n",
              "       width=\"24px\">\n",
              "    <path d=\"M0 0h24v24H0V0z\" fill=\"none\"/>\n",
              "    <path d=\"M18.56 5.44l.94 2.06.94-2.06 2.06-.94-2.06-.94-.94-2.06-.94 2.06-2.06.94zm-11 1L8.5 8.5l.94-2.06 2.06-.94-2.06-.94L8.5 2.5l-.94 2.06-2.06.94zm10 10l.94 2.06.94-2.06 2.06-.94-2.06-.94-.94-2.06-.94 2.06-2.06.94z\"/><path d=\"M17.41 7.96l-1.37-1.37c-.4-.4-.92-.59-1.43-.59-.52 0-1.04.2-1.43.59L10.3 9.45l-7.72 7.72c-.78.78-.78 2.05 0 2.83L4 21.41c.39.39.9.59 1.41.59.51 0 1.02-.2 1.41-.59l7.78-7.78 2.81-2.81c.8-.78.8-2.07 0-2.86zM5.41 20L4 18.59l7.72-7.72 1.47 1.35L5.41 20z\"/>\n",
              "  </svg>\n",
              "      </button>\n",
              "      \n",
              "  <style>\n",
              "    .colab-df-container {\n",
              "      display:flex;\n",
              "      flex-wrap:wrap;\n",
              "      gap: 12px;\n",
              "    }\n",
              "\n",
              "    .colab-df-convert {\n",
              "      background-color: #E8F0FE;\n",
              "      border: none;\n",
              "      border-radius: 50%;\n",
              "      cursor: pointer;\n",
              "      display: none;\n",
              "      fill: #1967D2;\n",
              "      height: 32px;\n",
              "      padding: 0 0 0 0;\n",
              "      width: 32px;\n",
              "    }\n",
              "\n",
              "    .colab-df-convert:hover {\n",
              "      background-color: #E2EBFA;\n",
              "      box-shadow: 0px 1px 2px rgba(60, 64, 67, 0.3), 0px 1px 3px 1px rgba(60, 64, 67, 0.15);\n",
              "      fill: #174EA6;\n",
              "    }\n",
              "\n",
              "    [theme=dark] .colab-df-convert {\n",
              "      background-color: #3B4455;\n",
              "      fill: #D2E3FC;\n",
              "    }\n",
              "\n",
              "    [theme=dark] .colab-df-convert:hover {\n",
              "      background-color: #434B5C;\n",
              "      box-shadow: 0px 1px 3px 1px rgba(0, 0, 0, 0.15);\n",
              "      filter: drop-shadow(0px 1px 2px rgba(0, 0, 0, 0.3));\n",
              "      fill: #FFFFFF;\n",
              "    }\n",
              "  </style>\n",
              "\n",
              "      <script>\n",
              "        const buttonEl =\n",
              "          document.querySelector('#df-0afa9fa9-8fee-4421-b9ba-bff9c3cdd7d6 button.colab-df-convert');\n",
              "        buttonEl.style.display =\n",
              "          google.colab.kernel.accessAllowed ? 'block' : 'none';\n",
              "\n",
              "        async function convertToInteractive(key) {\n",
              "          const element = document.querySelector('#df-0afa9fa9-8fee-4421-b9ba-bff9c3cdd7d6');\n",
              "          const dataTable =\n",
              "            await google.colab.kernel.invokeFunction('convertToInteractive',\n",
              "                                                     [key], {});\n",
              "          if (!dataTable) return;\n",
              "\n",
              "          const docLinkHtml = 'Like what you see? Visit the ' +\n",
              "            '<a target=\"_blank\" href=https://colab.research.google.com/notebooks/data_table.ipynb>data table notebook</a>'\n",
              "            + ' to learn more about interactive tables.';\n",
              "          element.innerHTML = '';\n",
              "          dataTable['output_type'] = 'display_data';\n",
              "          await google.colab.output.renderOutput(dataTable, element);\n",
              "          const docLink = document.createElement('div');\n",
              "          docLink.innerHTML = docLinkHtml;\n",
              "          element.appendChild(docLink);\n",
              "        }\n",
              "      </script>\n",
              "    </div>\n",
              "  </div>\n",
              "  "
            ],
            "text/plain": [
              "   Id  Region     Renta Sexo  Subsegmento  Edad  Adicional  Antiguedad  \\\n",
              "0   1    13.0       NaN    M          160    43          1         130   \n",
              "1   2    13.0  143640.0    H          160    46          0          69   \n",
              "2   3    13.0  929106.0    H          170    45          1          24   \n",
              "3   4    13.0  172447.0    H          151    46          1         134   \n",
              "4   5    13.0  805250.0    H          170    46          1         116   \n",
              "\n",
              "   CambioPin  Consumo  ...  TxsCI_T12  TxsCN_T12  TxsCOL_T12  TxsDebAtm_T12  \\\n",
              "0        NaN        0  ...        0.0        3.0         0.0            6.0   \n",
              "1        NaN        0  ...        0.0        1.0         0.0            0.0   \n",
              "2        1.0        0  ...        0.0        3.0         0.0           16.0   \n",
              "3        1.0        0  ...        0.0        3.0         0.0            0.0   \n",
              "4        1.0        0  ...        0.0        6.0         0.0            0.0   \n",
              "\n",
              "   TxsDebCom_T12  TxsPAT_T12  UsoL1_T12  UsoL2_T12  UsoLI_T12  target  \n",
              "0           30.0         0.0   731768.0    25890.0        0.0       0  \n",
              "1            0.0         0.0   244876.0   284632.0        0.0       0  \n",
              "2            5.0         0.0    94415.0        0.0        0.0       0  \n",
              "3            0.0         0.0   358807.0    14660.0        0.0       0  \n",
              "4            0.0         0.0    67516.0   234211.0        0.0       0  \n",
              "\n",
              "[5 rows x 62 columns]"
            ]
          },
          "execution_count": 6,
          "metadata": {},
          "output_type": "execute_result"
        }
      ],
      "source": [
        "#Mostramos los primeros 5 registros\n",
        "df.head(5)"
      ]
    },
    {
      "cell_type": "code",
      "execution_count": null,
      "metadata": {
        "colab": {
          "base_uri": "https://localhost:8080/",
          "height": 300
        },
        "id": "VuaiHrcnMILQ",
        "outputId": "f3c843d9-1208-4f1f-d9de-3a807b5d1b9c"
      },
      "outputs": [
        {
          "data": {
            "text/html": [
              "\n",
              "  <div id=\"df-fa0f4141-18be-4f83-9f84-8f19b76e8c44\">\n",
              "    <div class=\"colab-df-container\">\n",
              "      <div>\n",
              "<style scoped>\n",
              "    .dataframe tbody tr th:only-of-type {\n",
              "        vertical-align: middle;\n",
              "    }\n",
              "\n",
              "    .dataframe tbody tr th {\n",
              "        vertical-align: top;\n",
              "    }\n",
              "\n",
              "    .dataframe thead th {\n",
              "        text-align: right;\n",
              "    }\n",
              "</style>\n",
              "<table border=\"1\" class=\"dataframe\">\n",
              "  <thead>\n",
              "    <tr style=\"text-align: right;\">\n",
              "      <th></th>\n",
              "      <th>Id</th>\n",
              "      <th>Region</th>\n",
              "      <th>Renta</th>\n",
              "      <th>Sexo</th>\n",
              "      <th>Subsegmento</th>\n",
              "      <th>Edad</th>\n",
              "      <th>Adicional</th>\n",
              "      <th>Antiguedad</th>\n",
              "      <th>CambioPin</th>\n",
              "      <th>Consumo</th>\n",
              "      <th>...</th>\n",
              "      <th>TxsCI_T12</th>\n",
              "      <th>TxsCN_T12</th>\n",
              "      <th>TxsCOL_T12</th>\n",
              "      <th>TxsDebAtm_T12</th>\n",
              "      <th>TxsDebCom_T12</th>\n",
              "      <th>TxsPAT_T12</th>\n",
              "      <th>UsoL1_T12</th>\n",
              "      <th>UsoL2_T12</th>\n",
              "      <th>UsoLI_T12</th>\n",
              "      <th>target</th>\n",
              "    </tr>\n",
              "  </thead>\n",
              "  <tbody>\n",
              "    <tr>\n",
              "      <th>51119</th>\n",
              "      <td>51120</td>\n",
              "      <td>13.0</td>\n",
              "      <td>364978.0</td>\n",
              "      <td>H</td>\n",
              "      <td>160</td>\n",
              "      <td>51</td>\n",
              "      <td>1</td>\n",
              "      <td>57</td>\n",
              "      <td>1.0</td>\n",
              "      <td>0</td>\n",
              "      <td>...</td>\n",
              "      <td>0.0</td>\n",
              "      <td>9.0</td>\n",
              "      <td>0.0</td>\n",
              "      <td>16.0</td>\n",
              "      <td>0.0</td>\n",
              "      <td>0.0</td>\n",
              "      <td>549787.0</td>\n",
              "      <td>34237.0</td>\n",
              "      <td>0.0</td>\n",
              "      <td>0</td>\n",
              "    </tr>\n",
              "    <tr>\n",
              "      <th>51120</th>\n",
              "      <td>51121</td>\n",
              "      <td>13.0</td>\n",
              "      <td>625376.0</td>\n",
              "      <td>H</td>\n",
              "      <td>170</td>\n",
              "      <td>51</td>\n",
              "      <td>0</td>\n",
              "      <td>39</td>\n",
              "      <td>1.0</td>\n",
              "      <td>0</td>\n",
              "      <td>...</td>\n",
              "      <td>0.0</td>\n",
              "      <td>0.0</td>\n",
              "      <td>0.0</td>\n",
              "      <td>0.0</td>\n",
              "      <td>0.0</td>\n",
              "      <td>1.0</td>\n",
              "      <td>0.0</td>\n",
              "      <td>0.0</td>\n",
              "      <td>0.0</td>\n",
              "      <td>0</td>\n",
              "    </tr>\n",
              "    <tr>\n",
              "      <th>51121</th>\n",
              "      <td>51122</td>\n",
              "      <td>13.0</td>\n",
              "      <td>806220.0</td>\n",
              "      <td>H</td>\n",
              "      <td>160</td>\n",
              "      <td>47</td>\n",
              "      <td>1</td>\n",
              "      <td>153</td>\n",
              "      <td>1.0</td>\n",
              "      <td>0</td>\n",
              "      <td>...</td>\n",
              "      <td>0.0</td>\n",
              "      <td>3.0</td>\n",
              "      <td>0.0</td>\n",
              "      <td>1.0</td>\n",
              "      <td>0.0</td>\n",
              "      <td>0.0</td>\n",
              "      <td>103545.0</td>\n",
              "      <td>18000.0</td>\n",
              "      <td>0.0</td>\n",
              "      <td>0</td>\n",
              "    </tr>\n",
              "    <tr>\n",
              "      <th>51122</th>\n",
              "      <td>51123</td>\n",
              "      <td>13.0</td>\n",
              "      <td>NaN</td>\n",
              "      <td>M</td>\n",
              "      <td>160</td>\n",
              "      <td>47</td>\n",
              "      <td>0</td>\n",
              "      <td>11</td>\n",
              "      <td>NaN</td>\n",
              "      <td>0</td>\n",
              "      <td>...</td>\n",
              "      <td>NaN</td>\n",
              "      <td>NaN</td>\n",
              "      <td>NaN</td>\n",
              "      <td>NaN</td>\n",
              "      <td>NaN</td>\n",
              "      <td>NaN</td>\n",
              "      <td>NaN</td>\n",
              "      <td>NaN</td>\n",
              "      <td>NaN</td>\n",
              "      <td>0</td>\n",
              "    </tr>\n",
              "    <tr>\n",
              "      <th>51123</th>\n",
              "      <td>51124</td>\n",
              "      <td>13.0</td>\n",
              "      <td>840878.0</td>\n",
              "      <td>H</td>\n",
              "      <td>170</td>\n",
              "      <td>51</td>\n",
              "      <td>1</td>\n",
              "      <td>75</td>\n",
              "      <td>1.0</td>\n",
              "      <td>0</td>\n",
              "      <td>...</td>\n",
              "      <td>0.0</td>\n",
              "      <td>2.0</td>\n",
              "      <td>0.0</td>\n",
              "      <td>12.0</td>\n",
              "      <td>18.0</td>\n",
              "      <td>0.0</td>\n",
              "      <td>73300.0</td>\n",
              "      <td>0.0</td>\n",
              "      <td>0.0</td>\n",
              "      <td>0</td>\n",
              "    </tr>\n",
              "  </tbody>\n",
              "</table>\n",
              "<p>5 rows × 62 columns</p>\n",
              "</div>\n",
              "      <button class=\"colab-df-convert\" onclick=\"convertToInteractive('df-fa0f4141-18be-4f83-9f84-8f19b76e8c44')\"\n",
              "              title=\"Convert this dataframe to an interactive table.\"\n",
              "              style=\"display:none;\">\n",
              "        \n",
              "  <svg xmlns=\"http://www.w3.org/2000/svg\" height=\"24px\"viewBox=\"0 0 24 24\"\n",
              "       width=\"24px\">\n",
              "    <path d=\"M0 0h24v24H0V0z\" fill=\"none\"/>\n",
              "    <path d=\"M18.56 5.44l.94 2.06.94-2.06 2.06-.94-2.06-.94-.94-2.06-.94 2.06-2.06.94zm-11 1L8.5 8.5l.94-2.06 2.06-.94-2.06-.94L8.5 2.5l-.94 2.06-2.06.94zm10 10l.94 2.06.94-2.06 2.06-.94-2.06-.94-.94-2.06-.94 2.06-2.06.94z\"/><path d=\"M17.41 7.96l-1.37-1.37c-.4-.4-.92-.59-1.43-.59-.52 0-1.04.2-1.43.59L10.3 9.45l-7.72 7.72c-.78.78-.78 2.05 0 2.83L4 21.41c.39.39.9.59 1.41.59.51 0 1.02-.2 1.41-.59l7.78-7.78 2.81-2.81c.8-.78.8-2.07 0-2.86zM5.41 20L4 18.59l7.72-7.72 1.47 1.35L5.41 20z\"/>\n",
              "  </svg>\n",
              "      </button>\n",
              "      \n",
              "  <style>\n",
              "    .colab-df-container {\n",
              "      display:flex;\n",
              "      flex-wrap:wrap;\n",
              "      gap: 12px;\n",
              "    }\n",
              "\n",
              "    .colab-df-convert {\n",
              "      background-color: #E8F0FE;\n",
              "      border: none;\n",
              "      border-radius: 50%;\n",
              "      cursor: pointer;\n",
              "      display: none;\n",
              "      fill: #1967D2;\n",
              "      height: 32px;\n",
              "      padding: 0 0 0 0;\n",
              "      width: 32px;\n",
              "    }\n",
              "\n",
              "    .colab-df-convert:hover {\n",
              "      background-color: #E2EBFA;\n",
              "      box-shadow: 0px 1px 2px rgba(60, 64, 67, 0.3), 0px 1px 3px 1px rgba(60, 64, 67, 0.15);\n",
              "      fill: #174EA6;\n",
              "    }\n",
              "\n",
              "    [theme=dark] .colab-df-convert {\n",
              "      background-color: #3B4455;\n",
              "      fill: #D2E3FC;\n",
              "    }\n",
              "\n",
              "    [theme=dark] .colab-df-convert:hover {\n",
              "      background-color: #434B5C;\n",
              "      box-shadow: 0px 1px 3px 1px rgba(0, 0, 0, 0.15);\n",
              "      filter: drop-shadow(0px 1px 2px rgba(0, 0, 0, 0.3));\n",
              "      fill: #FFFFFF;\n",
              "    }\n",
              "  </style>\n",
              "\n",
              "      <script>\n",
              "        const buttonEl =\n",
              "          document.querySelector('#df-fa0f4141-18be-4f83-9f84-8f19b76e8c44 button.colab-df-convert');\n",
              "        buttonEl.style.display =\n",
              "          google.colab.kernel.accessAllowed ? 'block' : 'none';\n",
              "\n",
              "        async function convertToInteractive(key) {\n",
              "          const element = document.querySelector('#df-fa0f4141-18be-4f83-9f84-8f19b76e8c44');\n",
              "          const dataTable =\n",
              "            await google.colab.kernel.invokeFunction('convertToInteractive',\n",
              "                                                     [key], {});\n",
              "          if (!dataTable) return;\n",
              "\n",
              "          const docLinkHtml = 'Like what you see? Visit the ' +\n",
              "            '<a target=\"_blank\" href=https://colab.research.google.com/notebooks/data_table.ipynb>data table notebook</a>'\n",
              "            + ' to learn more about interactive tables.';\n",
              "          element.innerHTML = '';\n",
              "          dataTable['output_type'] = 'display_data';\n",
              "          await google.colab.output.renderOutput(dataTable, element);\n",
              "          const docLink = document.createElement('div');\n",
              "          docLink.innerHTML = docLinkHtml;\n",
              "          element.appendChild(docLink);\n",
              "        }\n",
              "      </script>\n",
              "    </div>\n",
              "  </div>\n",
              "  "
            ],
            "text/plain": [
              "          Id  Region     Renta Sexo  Subsegmento  Edad  Adicional  Antiguedad  \\\n",
              "51119  51120    13.0  364978.0    H          160    51          1          57   \n",
              "51120  51121    13.0  625376.0    H          170    51          0          39   \n",
              "51121  51122    13.0  806220.0    H          160    47          1         153   \n",
              "51122  51123    13.0       NaN    M          160    47          0          11   \n",
              "51123  51124    13.0  840878.0    H          170    51          1          75   \n",
              "\n",
              "       CambioPin  Consumo  ...  TxsCI_T12  TxsCN_T12  TxsCOL_T12  \\\n",
              "51119        1.0        0  ...        0.0        9.0         0.0   \n",
              "51120        1.0        0  ...        0.0        0.0         0.0   \n",
              "51121        1.0        0  ...        0.0        3.0         0.0   \n",
              "51122        NaN        0  ...        NaN        NaN         NaN   \n",
              "51123        1.0        0  ...        0.0        2.0         0.0   \n",
              "\n",
              "       TxsDebAtm_T12  TxsDebCom_T12  TxsPAT_T12  UsoL1_T12  UsoL2_T12  \\\n",
              "51119           16.0            0.0         0.0   549787.0    34237.0   \n",
              "51120            0.0            0.0         1.0        0.0        0.0   \n",
              "51121            1.0            0.0         0.0   103545.0    18000.0   \n",
              "51122            NaN            NaN         NaN        NaN        NaN   \n",
              "51123           12.0           18.0         0.0    73300.0        0.0   \n",
              "\n",
              "       UsoLI_T12  target  \n",
              "51119        0.0       0  \n",
              "51120        0.0       0  \n",
              "51121        0.0       0  \n",
              "51122        NaN       0  \n",
              "51123        0.0       0  \n",
              "\n",
              "[5 rows x 62 columns]"
            ]
          },
          "execution_count": 7,
          "metadata": {},
          "output_type": "execute_result"
        }
      ],
      "source": [
        "# Mostramos los ultimos registros\n",
        "df.tail(5)"
      ]
    },
    {
      "cell_type": "code",
      "execution_count": null,
      "metadata": {
        "colab": {
          "base_uri": "https://localhost:8080/"
        },
        "id": "rlGSwoQnGG3u",
        "outputId": "65a16a1a-1024-4c36-8d57-e209246f5158"
      },
      "outputs": [
        {
          "data": {
            "text/plain": [
              "(51124, 62)"
            ]
          },
          "execution_count": 8,
          "metadata": {},
          "output_type": "execute_result"
        }
      ],
      "source": [
        "#Cantidad de filas y columnas\n",
        "df.shape"
      ]
    },
    {
      "cell_type": "code",
      "execution_count": null,
      "metadata": {
        "colab": {
          "base_uri": "https://localhost:8080/"
        },
        "id": "zSkNDwDiMdwy",
        "outputId": "34dbe14f-d5e5-44c9-f269-75f6b75e189e"
      },
      "outputs": [
        {
          "data": {
            "text/plain": [
              "Index(['Id', 'Region', 'Renta', 'Sexo', 'Subsegmento', 'Edad', 'Adicional',\n",
              "       'Antiguedad', 'CambioPin', 'Consumo', 'Debito', 'Ctacte', 'Cuentas',\n",
              "       'Hipotecario', 'Internauta', 'Monoproducto', 'TC', 'Dualidad',\n",
              "       'CUPO_L1', 'CUPO_MX', 'CUPO_L2', 'Col_T12', 'ColL1TE_T12',\n",
              "       'EeccInt_T12', 'EeccNac_T12', 'Fac_T12', 'FacAI_T12', 'FacAN_T12',\n",
              "       'FacCCOT_T12', 'FacCCPC_T12', 'FacCI_T12', 'FacCN_T12', 'FacCOL_T12',\n",
              "       'FacDebAtm_T12', 'FacDebCom_T12', 'FacPAT_T12', 'FlgAct_T12',\n",
              "       'FlgActAI_T12', 'FlgActAN_T12', 'FlgActCCOT_T12', 'FlgActCCPC_T12',\n",
              "       'FlgActCI_T12', 'FlgActCN_T12', 'FlgActCOL_T12', 'FlgActPAT_T12',\n",
              "       'PagoInt_T12', 'PagoNac_T12', 'Txs_T12', 'TxsAI_T12', 'TxsAN_T12',\n",
              "       'TxsCCOT_T12', 'TxsCCPC_T12', 'TxsCI_T12', 'TxsCN_T12', 'TxsCOL_T12',\n",
              "       'TxsDebAtm_T12', 'TxsDebCom_T12', 'TxsPAT_T12', 'UsoL1_T12',\n",
              "       'UsoL2_T12', 'UsoLI_T12', 'target'],\n",
              "      dtype='object')"
            ]
          },
          "execution_count": 9,
          "metadata": {},
          "output_type": "execute_result"
        }
      ],
      "source": [
        "#Mostramos el nombre de las columnas\n",
        "df.columns"
      ]
    },
    {
      "cell_type": "code",
      "execution_count": null,
      "metadata": {
        "colab": {
          "base_uri": "https://localhost:8080/"
        },
        "id": "iVj4bnviMpVO",
        "outputId": "70529361-41df-4b64-8ecf-cbbb7506a551"
      },
      "outputs": [
        {
          "name": "stdout",
          "output_type": "stream",
          "text": [
            "<class 'pandas.core.frame.DataFrame'>\n",
            "RangeIndex: 51124 entries, 0 to 51123\n",
            "Data columns (total 62 columns):\n",
            " #   Column          Non-Null Count  Dtype  \n",
            "---  ------          --------------  -----  \n",
            " 0   Id              51124 non-null  int64  \n",
            " 1   Region          51071 non-null  float64\n",
            " 2   Renta           37759 non-null  float64\n",
            " 3   Sexo            51123 non-null  object \n",
            " 4   Subsegmento     51124 non-null  int64  \n",
            " 5   Edad            51124 non-null  int64  \n",
            " 6   Adicional       51124 non-null  int64  \n",
            " 7   Antiguedad      51124 non-null  int64  \n",
            " 8   CambioPin       31736 non-null  float64\n",
            " 9   Consumo         51124 non-null  int64  \n",
            " 10  Debito          51124 non-null  int64  \n",
            " 11  Ctacte          51124 non-null  int64  \n",
            " 12  Cuentas         51124 non-null  int64  \n",
            " 13  Hipotecario     51124 non-null  int64  \n",
            " 14  Internauta      51124 non-null  int64  \n",
            " 15  Monoproducto    51124 non-null  int64  \n",
            " 16  TC              51124 non-null  int64  \n",
            " 17  Dualidad        51124 non-null  int64  \n",
            " 18  CUPO_L1         51124 non-null  int64  \n",
            " 19  CUPO_MX         51124 non-null  float64\n",
            " 20  CUPO_L2         51124 non-null  float64\n",
            " 21  Col_T12         42873 non-null  float64\n",
            " 22  ColL1TE_T12     42873 non-null  float64\n",
            " 23  EeccInt_T12     42873 non-null  float64\n",
            " 24  EeccNac_T12     42873 non-null  float64\n",
            " 25  Fac_T12         42873 non-null  float64\n",
            " 26  FacAI_T12       42873 non-null  float64\n",
            " 27  FacAN_T12       42873 non-null  float64\n",
            " 28  FacCCOT_T12     42873 non-null  float64\n",
            " 29  FacCCPC_T12     42873 non-null  float64\n",
            " 30  FacCI_T12       42873 non-null  float64\n",
            " 31  FacCN_T12       42873 non-null  float64\n",
            " 32  FacCOL_T12      42873 non-null  float64\n",
            " 33  FacDebAtm_T12   42873 non-null  float64\n",
            " 34  FacDebCom_T12   42873 non-null  float64\n",
            " 35  FacPAT_T12      42873 non-null  float64\n",
            " 36  FlgAct_T12      42873 non-null  float64\n",
            " 37  FlgActAI_T12    42873 non-null  float64\n",
            " 38  FlgActAN_T12    42873 non-null  float64\n",
            " 39  FlgActCCOT_T12  42873 non-null  float64\n",
            " 40  FlgActCCPC_T12  42873 non-null  float64\n",
            " 41  FlgActCI_T12    42873 non-null  float64\n",
            " 42  FlgActCN_T12    42873 non-null  float64\n",
            " 43  FlgActCOL_T12   42873 non-null  float64\n",
            " 44  FlgActPAT_T12   42873 non-null  float64\n",
            " 45  PagoInt_T12     42873 non-null  float64\n",
            " 46  PagoNac_T12     42873 non-null  float64\n",
            " 47  Txs_T12         42873 non-null  float64\n",
            " 48  TxsAI_T12       42873 non-null  float64\n",
            " 49  TxsAN_T12       42873 non-null  float64\n",
            " 50  TxsCCOT_T12     42873 non-null  float64\n",
            " 51  TxsCCPC_T12     42873 non-null  float64\n",
            " 52  TxsCI_T12       42873 non-null  float64\n",
            " 53  TxsCN_T12       42873 non-null  float64\n",
            " 54  TxsCOL_T12      42873 non-null  float64\n",
            " 55  TxsDebAtm_T12   42873 non-null  float64\n",
            " 56  TxsDebCom_T12   42873 non-null  float64\n",
            " 57  TxsPAT_T12      42873 non-null  float64\n",
            " 58  UsoL1_T12       42873 non-null  float64\n",
            " 59  UsoL2_T12       42873 non-null  float64\n",
            " 60  UsoLI_T12       42873 non-null  float64\n",
            " 61  target          51124 non-null  int64  \n",
            "dtypes: float64(45), int64(16), object(1)\n",
            "memory usage: 24.2+ MB\n"
          ]
        }
      ],
      "source": [
        "#Información general de los datos\n",
        "df.info()"
      ]
    },
    {
      "cell_type": "code",
      "execution_count": null,
      "metadata": {
        "colab": {
          "base_uri": "https://localhost:8080/",
          "height": 394
        },
        "id": "oFY0bnTqLcmn",
        "outputId": "5bd6e420-0247-4fa3-da5e-b0074c557aba"
      },
      "outputs": [
        {
          "data": {
            "text/html": [
              "\n",
              "  <div id=\"df-8c1dacd1-f696-44d5-a65c-1d33d7972c32\">\n",
              "    <div class=\"colab-df-container\">\n",
              "      <div>\n",
              "<style scoped>\n",
              "    .dataframe tbody tr th:only-of-type {\n",
              "        vertical-align: middle;\n",
              "    }\n",
              "\n",
              "    .dataframe tbody tr th {\n",
              "        vertical-align: top;\n",
              "    }\n",
              "\n",
              "    .dataframe thead th {\n",
              "        text-align: right;\n",
              "    }\n",
              "</style>\n",
              "<table border=\"1\" class=\"dataframe\">\n",
              "  <thead>\n",
              "    <tr style=\"text-align: right;\">\n",
              "      <th></th>\n",
              "      <th>Id</th>\n",
              "      <th>Region</th>\n",
              "      <th>Renta</th>\n",
              "      <th>Subsegmento</th>\n",
              "      <th>Edad</th>\n",
              "      <th>Adicional</th>\n",
              "      <th>Antiguedad</th>\n",
              "      <th>CambioPin</th>\n",
              "      <th>Consumo</th>\n",
              "      <th>Debito</th>\n",
              "      <th>...</th>\n",
              "      <th>TxsCI_T12</th>\n",
              "      <th>TxsCN_T12</th>\n",
              "      <th>TxsCOL_T12</th>\n",
              "      <th>TxsDebAtm_T12</th>\n",
              "      <th>TxsDebCom_T12</th>\n",
              "      <th>TxsPAT_T12</th>\n",
              "      <th>UsoL1_T12</th>\n",
              "      <th>UsoL2_T12</th>\n",
              "      <th>UsoLI_T12</th>\n",
              "      <th>target</th>\n",
              "    </tr>\n",
              "  </thead>\n",
              "  <tbody>\n",
              "    <tr>\n",
              "      <th>count</th>\n",
              "      <td>51124.000000</td>\n",
              "      <td>51071.000000</td>\n",
              "      <td>3.775900e+04</td>\n",
              "      <td>51124.000000</td>\n",
              "      <td>51124.000000</td>\n",
              "      <td>51124.000000</td>\n",
              "      <td>51124.000000</td>\n",
              "      <td>31736.0</td>\n",
              "      <td>51124.000000</td>\n",
              "      <td>51124.000000</td>\n",
              "      <td>...</td>\n",
              "      <td>42873.000000</td>\n",
              "      <td>42873.000000</td>\n",
              "      <td>42873.000000</td>\n",
              "      <td>42873.000000</td>\n",
              "      <td>42873.000000</td>\n",
              "      <td>42873.000000</td>\n",
              "      <td>4.287300e+04</td>\n",
              "      <td>4.287300e+04</td>\n",
              "      <td>42873.000000</td>\n",
              "      <td>51124.000000</td>\n",
              "    </tr>\n",
              "    <tr>\n",
              "      <th>mean</th>\n",
              "      <td>25562.500000</td>\n",
              "      <td>10.828220</td>\n",
              "      <td>6.630771e+05</td>\n",
              "      <td>182.024274</td>\n",
              "      <td>38.702879</td>\n",
              "      <td>0.256181</td>\n",
              "      <td>38.896154</td>\n",
              "      <td>1.0</td>\n",
              "      <td>0.000900</td>\n",
              "      <td>0.875284</td>\n",
              "      <td>...</td>\n",
              "      <td>0.096284</td>\n",
              "      <td>2.224477</td>\n",
              "      <td>0.003172</td>\n",
              "      <td>5.605789</td>\n",
              "      <td>4.306883</td>\n",
              "      <td>0.228815</td>\n",
              "      <td>1.671249e+05</td>\n",
              "      <td>1.320438e+05</td>\n",
              "      <td>8.093227</td>\n",
              "      <td>0.089977</td>\n",
              "    </tr>\n",
              "    <tr>\n",
              "      <th>std</th>\n",
              "      <td>14758.371918</td>\n",
              "      <td>3.392703</td>\n",
              "      <td>4.092795e+05</td>\n",
              "      <td>29.276596</td>\n",
              "      <td>13.302573</td>\n",
              "      <td>0.436527</td>\n",
              "      <td>35.672549</td>\n",
              "      <td>0.0</td>\n",
              "      <td>0.029983</td>\n",
              "      <td>0.330400</td>\n",
              "      <td>...</td>\n",
              "      <td>0.815828</td>\n",
              "      <td>3.573449</td>\n",
              "      <td>0.056233</td>\n",
              "      <td>7.938518</td>\n",
              "      <td>8.658284</td>\n",
              "      <td>0.712812</td>\n",
              "      <td>3.034343e+05</td>\n",
              "      <td>4.613774e+05</td>\n",
              "      <td>88.744907</td>\n",
              "      <td>0.286152</td>\n",
              "    </tr>\n",
              "    <tr>\n",
              "      <th>min</th>\n",
              "      <td>1.000000</td>\n",
              "      <td>1.000000</td>\n",
              "      <td>1.000000e+00</td>\n",
              "      <td>151.000000</td>\n",
              "      <td>9.000000</td>\n",
              "      <td>0.000000</td>\n",
              "      <td>6.000000</td>\n",
              "      <td>1.0</td>\n",
              "      <td>0.000000</td>\n",
              "      <td>0.000000</td>\n",
              "      <td>...</td>\n",
              "      <td>0.000000</td>\n",
              "      <td>-2.000000</td>\n",
              "      <td>0.000000</td>\n",
              "      <td>0.000000</td>\n",
              "      <td>0.000000</td>\n",
              "      <td>0.000000</td>\n",
              "      <td>-7.088177e+06</td>\n",
              "      <td>-1.500000e+01</td>\n",
              "      <td>-2940.000000</td>\n",
              "      <td>0.000000</td>\n",
              "    </tr>\n",
              "    <tr>\n",
              "      <th>25%</th>\n",
              "      <td>12781.750000</td>\n",
              "      <td>9.000000</td>\n",
              "      <td>4.199990e+05</td>\n",
              "      <td>160.000000</td>\n",
              "      <td>28.000000</td>\n",
              "      <td>0.000000</td>\n",
              "      <td>14.000000</td>\n",
              "      <td>1.0</td>\n",
              "      <td>0.000000</td>\n",
              "      <td>1.000000</td>\n",
              "      <td>...</td>\n",
              "      <td>0.000000</td>\n",
              "      <td>0.000000</td>\n",
              "      <td>0.000000</td>\n",
              "      <td>0.000000</td>\n",
              "      <td>0.000000</td>\n",
              "      <td>0.000000</td>\n",
              "      <td>1.990000e+03</td>\n",
              "      <td>0.000000e+00</td>\n",
              "      <td>0.000000</td>\n",
              "      <td>0.000000</td>\n",
              "    </tr>\n",
              "    <tr>\n",
              "      <th>50%</th>\n",
              "      <td>25562.500000</td>\n",
              "      <td>13.000000</td>\n",
              "      <td>5.670120e+05</td>\n",
              "      <td>170.000000</td>\n",
              "      <td>35.000000</td>\n",
              "      <td>0.000000</td>\n",
              "      <td>25.000000</td>\n",
              "      <td>1.0</td>\n",
              "      <td>0.000000</td>\n",
              "      <td>1.000000</td>\n",
              "      <td>...</td>\n",
              "      <td>0.000000</td>\n",
              "      <td>1.000000</td>\n",
              "      <td>0.000000</td>\n",
              "      <td>3.000000</td>\n",
              "      <td>0.000000</td>\n",
              "      <td>0.000000</td>\n",
              "      <td>5.504200e+04</td>\n",
              "      <td>1.419100e+04</td>\n",
              "      <td>0.000000</td>\n",
              "      <td>0.000000</td>\n",
              "    </tr>\n",
              "    <tr>\n",
              "      <th>75%</th>\n",
              "      <td>38343.250000</td>\n",
              "      <td>13.000000</td>\n",
              "      <td>8.149035e+05</td>\n",
              "      <td>210.000000</td>\n",
              "      <td>46.000000</td>\n",
              "      <td>1.000000</td>\n",
              "      <td>54.000000</td>\n",
              "      <td>1.0</td>\n",
              "      <td>0.000000</td>\n",
              "      <td>1.000000</td>\n",
              "      <td>...</td>\n",
              "      <td>0.000000</td>\n",
              "      <td>3.000000</td>\n",
              "      <td>0.000000</td>\n",
              "      <td>8.000000</td>\n",
              "      <td>5.000000</td>\n",
              "      <td>0.000000</td>\n",
              "      <td>1.978870e+05</td>\n",
              "      <td>7.896000e+04</td>\n",
              "      <td>0.000000</td>\n",
              "      <td>0.000000</td>\n",
              "    </tr>\n",
              "    <tr>\n",
              "      <th>max</th>\n",
              "      <td>51124.000000</td>\n",
              "      <td>13.000000</td>\n",
              "      <td>1.308933e+07</td>\n",
              "      <td>959.000000</td>\n",
              "      <td>104.000000</td>\n",
              "      <td>1.000000</td>\n",
              "      <td>324.000000</td>\n",
              "      <td>1.0</td>\n",
              "      <td>1.000000</td>\n",
              "      <td>1.000000</td>\n",
              "      <td>...</td>\n",
              "      <td>35.000000</td>\n",
              "      <td>56.000000</td>\n",
              "      <td>1.000000</td>\n",
              "      <td>174.000000</td>\n",
              "      <td>144.000000</td>\n",
              "      <td>12.000000</td>\n",
              "      <td>5.647564e+06</td>\n",
              "      <td>1.198188e+07</td>\n",
              "      <td>3778.750000</td>\n",
              "      <td>1.000000</td>\n",
              "    </tr>\n",
              "  </tbody>\n",
              "</table>\n",
              "<p>8 rows × 61 columns</p>\n",
              "</div>\n",
              "      <button class=\"colab-df-convert\" onclick=\"convertToInteractive('df-8c1dacd1-f696-44d5-a65c-1d33d7972c32')\"\n",
              "              title=\"Convert this dataframe to an interactive table.\"\n",
              "              style=\"display:none;\">\n",
              "        \n",
              "  <svg xmlns=\"http://www.w3.org/2000/svg\" height=\"24px\"viewBox=\"0 0 24 24\"\n",
              "       width=\"24px\">\n",
              "    <path d=\"M0 0h24v24H0V0z\" fill=\"none\"/>\n",
              "    <path d=\"M18.56 5.44l.94 2.06.94-2.06 2.06-.94-2.06-.94-.94-2.06-.94 2.06-2.06.94zm-11 1L8.5 8.5l.94-2.06 2.06-.94-2.06-.94L8.5 2.5l-.94 2.06-2.06.94zm10 10l.94 2.06.94-2.06 2.06-.94-2.06-.94-.94-2.06-.94 2.06-2.06.94z\"/><path d=\"M17.41 7.96l-1.37-1.37c-.4-.4-.92-.59-1.43-.59-.52 0-1.04.2-1.43.59L10.3 9.45l-7.72 7.72c-.78.78-.78 2.05 0 2.83L4 21.41c.39.39.9.59 1.41.59.51 0 1.02-.2 1.41-.59l7.78-7.78 2.81-2.81c.8-.78.8-2.07 0-2.86zM5.41 20L4 18.59l7.72-7.72 1.47 1.35L5.41 20z\"/>\n",
              "  </svg>\n",
              "      </button>\n",
              "      \n",
              "  <style>\n",
              "    .colab-df-container {\n",
              "      display:flex;\n",
              "      flex-wrap:wrap;\n",
              "      gap: 12px;\n",
              "    }\n",
              "\n",
              "    .colab-df-convert {\n",
              "      background-color: #E8F0FE;\n",
              "      border: none;\n",
              "      border-radius: 50%;\n",
              "      cursor: pointer;\n",
              "      display: none;\n",
              "      fill: #1967D2;\n",
              "      height: 32px;\n",
              "      padding: 0 0 0 0;\n",
              "      width: 32px;\n",
              "    }\n",
              "\n",
              "    .colab-df-convert:hover {\n",
              "      background-color: #E2EBFA;\n",
              "      box-shadow: 0px 1px 2px rgba(60, 64, 67, 0.3), 0px 1px 3px 1px rgba(60, 64, 67, 0.15);\n",
              "      fill: #174EA6;\n",
              "    }\n",
              "\n",
              "    [theme=dark] .colab-df-convert {\n",
              "      background-color: #3B4455;\n",
              "      fill: #D2E3FC;\n",
              "    }\n",
              "\n",
              "    [theme=dark] .colab-df-convert:hover {\n",
              "      background-color: #434B5C;\n",
              "      box-shadow: 0px 1px 3px 1px rgba(0, 0, 0, 0.15);\n",
              "      filter: drop-shadow(0px 1px 2px rgba(0, 0, 0, 0.3));\n",
              "      fill: #FFFFFF;\n",
              "    }\n",
              "  </style>\n",
              "\n",
              "      <script>\n",
              "        const buttonEl =\n",
              "          document.querySelector('#df-8c1dacd1-f696-44d5-a65c-1d33d7972c32 button.colab-df-convert');\n",
              "        buttonEl.style.display =\n",
              "          google.colab.kernel.accessAllowed ? 'block' : 'none';\n",
              "\n",
              "        async function convertToInteractive(key) {\n",
              "          const element = document.querySelector('#df-8c1dacd1-f696-44d5-a65c-1d33d7972c32');\n",
              "          const dataTable =\n",
              "            await google.colab.kernel.invokeFunction('convertToInteractive',\n",
              "                                                     [key], {});\n",
              "          if (!dataTable) return;\n",
              "\n",
              "          const docLinkHtml = 'Like what you see? Visit the ' +\n",
              "            '<a target=\"_blank\" href=https://colab.research.google.com/notebooks/data_table.ipynb>data table notebook</a>'\n",
              "            + ' to learn more about interactive tables.';\n",
              "          element.innerHTML = '';\n",
              "          dataTable['output_type'] = 'display_data';\n",
              "          await google.colab.output.renderOutput(dataTable, element);\n",
              "          const docLink = document.createElement('div');\n",
              "          docLink.innerHTML = docLinkHtml;\n",
              "          element.appendChild(docLink);\n",
              "        }\n",
              "      </script>\n",
              "    </div>\n",
              "  </div>\n",
              "  "
            ],
            "text/plain": [
              "                 Id        Region         Renta   Subsegmento          Edad  \\\n",
              "count  51124.000000  51071.000000  3.775900e+04  51124.000000  51124.000000   \n",
              "mean   25562.500000     10.828220  6.630771e+05    182.024274     38.702879   \n",
              "std    14758.371918      3.392703  4.092795e+05     29.276596     13.302573   \n",
              "min        1.000000      1.000000  1.000000e+00    151.000000      9.000000   \n",
              "25%    12781.750000      9.000000  4.199990e+05    160.000000     28.000000   \n",
              "50%    25562.500000     13.000000  5.670120e+05    170.000000     35.000000   \n",
              "75%    38343.250000     13.000000  8.149035e+05    210.000000     46.000000   \n",
              "max    51124.000000     13.000000  1.308933e+07    959.000000    104.000000   \n",
              "\n",
              "          Adicional    Antiguedad  CambioPin       Consumo        Debito  ...  \\\n",
              "count  51124.000000  51124.000000    31736.0  51124.000000  51124.000000  ...   \n",
              "mean       0.256181     38.896154        1.0      0.000900      0.875284  ...   \n",
              "std        0.436527     35.672549        0.0      0.029983      0.330400  ...   \n",
              "min        0.000000      6.000000        1.0      0.000000      0.000000  ...   \n",
              "25%        0.000000     14.000000        1.0      0.000000      1.000000  ...   \n",
              "50%        0.000000     25.000000        1.0      0.000000      1.000000  ...   \n",
              "75%        1.000000     54.000000        1.0      0.000000      1.000000  ...   \n",
              "max        1.000000    324.000000        1.0      1.000000      1.000000  ...   \n",
              "\n",
              "          TxsCI_T12     TxsCN_T12    TxsCOL_T12  TxsDebAtm_T12  TxsDebCom_T12  \\\n",
              "count  42873.000000  42873.000000  42873.000000   42873.000000   42873.000000   \n",
              "mean       0.096284      2.224477      0.003172       5.605789       4.306883   \n",
              "std        0.815828      3.573449      0.056233       7.938518       8.658284   \n",
              "min        0.000000     -2.000000      0.000000       0.000000       0.000000   \n",
              "25%        0.000000      0.000000      0.000000       0.000000       0.000000   \n",
              "50%        0.000000      1.000000      0.000000       3.000000       0.000000   \n",
              "75%        0.000000      3.000000      0.000000       8.000000       5.000000   \n",
              "max       35.000000     56.000000      1.000000     174.000000     144.000000   \n",
              "\n",
              "         TxsPAT_T12     UsoL1_T12     UsoL2_T12     UsoLI_T12        target  \n",
              "count  42873.000000  4.287300e+04  4.287300e+04  42873.000000  51124.000000  \n",
              "mean       0.228815  1.671249e+05  1.320438e+05      8.093227      0.089977  \n",
              "std        0.712812  3.034343e+05  4.613774e+05     88.744907      0.286152  \n",
              "min        0.000000 -7.088177e+06 -1.500000e+01  -2940.000000      0.000000  \n",
              "25%        0.000000  1.990000e+03  0.000000e+00      0.000000      0.000000  \n",
              "50%        0.000000  5.504200e+04  1.419100e+04      0.000000      0.000000  \n",
              "75%        0.000000  1.978870e+05  7.896000e+04      0.000000      0.000000  \n",
              "max       12.000000  5.647564e+06  1.198188e+07   3778.750000      1.000000  \n",
              "\n",
              "[8 rows x 61 columns]"
            ]
          },
          "execution_count": 11,
          "metadata": {},
          "output_type": "execute_result"
        }
      ],
      "source": [
        "#Algunas estadísticas de nuestros datos\n",
        "df.describe()"
      ]
    },
    {
      "cell_type": "code",
      "execution_count": null,
      "metadata": {
        "colab": {
          "base_uri": "https://localhost:8080/"
        },
        "id": "y1uAtUClZw8l",
        "outputId": "03719a40-d439-4090-8b6f-a933b10ee5f9"
      },
      "outputs": [
        {
          "name": "stdout",
          "output_type": "stream",
          "text": [
            "La cantidad de valores nulos es: 362847\n"
          ]
        }
      ],
      "source": [
        "#Revisamos la cantidad de valores nulos\n",
        "nulos = df.isnull().sum().sum()\n",
        "print('La cantidad de valores nulos es:',nulos)"
      ]
    },
    {
      "cell_type": "code",
      "execution_count": null,
      "metadata": {
        "colab": {
          "base_uri": "https://localhost:8080/"
        },
        "id": "6Jy90YCsM9ei",
        "outputId": "3cfd1814-2fae-49e7-db9a-10b2fb2b79e7"
      },
      "outputs": [
        {
          "data": {
            "text/plain": [
              "H    27410\n",
              "M    23713\n",
              "Name: Sexo, dtype: int64"
            ]
          },
          "execution_count": 13,
          "metadata": {},
          "output_type": "execute_result"
        }
      ],
      "source": [
        "#Cantidad de clientes hombres y mujeres\n",
        "# H = Hombre\n",
        "# M = Mujer\n",
        "df.Sexo.value_counts()"
      ]
    },
    {
      "cell_type": "code",
      "execution_count": null,
      "metadata": {
        "colab": {
          "base_uri": "https://localhost:8080/"
        },
        "id": "OWD10afrNI5R",
        "outputId": "8312c9e5-6d01-4261-c379-d13a931e3997"
      },
      "outputs": [
        {
          "data": {
            "text/plain": [
              "0    46524\n",
              "1     4600\n",
              "Name: target, dtype: int64"
            ]
          },
          "execution_count": 14,
          "metadata": {},
          "output_type": "execute_result"
        }
      ],
      "source": [
        "#Cantidad de clientes que pagó el monto total o el monto mínimo\n",
        "# 0 = Paga monto total\n",
        "# 1 = Paga el mínimo\n",
        "df.target.value_counts()"
      ]
    },
    {
      "cell_type": "code",
      "execution_count": null,
      "metadata": {
        "colab": {
          "base_uri": "https://localhost:8080/"
        },
        "id": "5FcRHptsN8js",
        "outputId": "79acb45c-12f4-42b2-bc23-847bc52a79b4"
      },
      "outputs": [
        {
          "data": {
            "text/plain": [
              "Sexo  target\n",
              "H     0         24805\n",
              "      1          2605\n",
              "M     0         21718\n",
              "      1          1995\n",
              "Name: target, dtype: int64"
            ]
          },
          "execution_count": 15,
          "metadata": {},
          "output_type": "execute_result"
        }
      ],
      "source": [
        "#Cantidad de clientes que pagaron el monto total o el monto mínimo agrupados por sexo\n",
        "df.groupby(['Sexo']).target.value_counts()"
      ]
    },
    {
      "cell_type": "code",
      "execution_count": null,
      "metadata": {
        "colab": {
          "base_uri": "https://localhost:8080/"
        },
        "id": "uvqSZfcNd6sL",
        "outputId": "f53a6e54-358e-4e57-8b77-d0e3296cf9a0"
      },
      "outputs": [
        {
          "data": {
            "text/plain": [
              "1    31757\n",
              "2    18031\n",
              "3     1227\n",
              "4      103\n",
              "5        6\n",
              "Name: Cuentas, dtype: int64"
            ]
          },
          "execution_count": 16,
          "metadata": {},
          "output_type": "execute_result"
        }
      ],
      "source": [
        "#Cantidad de cuentas que tienen los clientes\n",
        "df.Cuentas.value_counts()"
      ]
    },
    {
      "cell_type": "code",
      "execution_count": null,
      "metadata": {
        "colab": {
          "base_uri": "https://localhost:8080/",
          "height": 225
        },
        "id": "AeKwdFUnTBPZ",
        "outputId": "a11a9085-8b5e-4ab6-b9a4-9c1fcc5a20a5"
      },
      "outputs": [
        {
          "data": {
            "image/png": "[encoded data removed]",
            "text/plain": [
              "<Figure size 432x216 with 2 Axes>"
            ]
          },
          "metadata": {
            "needs_background": "light"
          },
          "output_type": "display_data"
        }
      ],
      "source": [
        "#Grafico de cantidad de personas que pagaron el monto total o el monto mínimo agrupados por sexo\n",
        "g = sb.FacetGrid(df, col='Sexo')\n",
        "g =g.map(plt.hist, 'target', bins=4)"
      ]
    },
    {
      "cell_type": "code",
      "execution_count": null,
      "metadata": {
        "colab": {
          "base_uri": "https://localhost:8080/",
          "height": 689
        },
        "id": "wz02vGjWV9uK",
        "outputId": "bd833f10-3b42-4ea2-d85f-cb55ede82cd3"
      },
      "outputs": [
        {
          "data": {
            "text/html": [
              "\n",
              "  <div id=\"df-be6c3f1a-db27-49a9-8ec2-c33c0a9dfcc8\">\n",
              "    <div class=\"colab-df-container\">\n",
              "      <div>\n",
              "<style scoped>\n",
              "    .dataframe tbody tr th:only-of-type {\n",
              "        vertical-align: middle;\n",
              "    }\n",
              "\n",
              "    .dataframe tbody tr th {\n",
              "        vertical-align: top;\n",
              "    }\n",
              "\n",
              "    .dataframe thead th {\n",
              "        text-align: right;\n",
              "    }\n",
              "</style>\n",
              "<table border=\"1\" class=\"dataframe\">\n",
              "  <thead>\n",
              "    <tr style=\"text-align: right;\">\n",
              "      <th></th>\n",
              "      <th>Id</th>\n",
              "      <th>Region</th>\n",
              "      <th>Renta</th>\n",
              "      <th>Subsegmento</th>\n",
              "      <th>Edad</th>\n",
              "      <th>Adicional</th>\n",
              "      <th>Antiguedad</th>\n",
              "      <th>CambioPin</th>\n",
              "      <th>Consumo</th>\n",
              "      <th>Debito</th>\n",
              "      <th>...</th>\n",
              "      <th>TxsCI_T12</th>\n",
              "      <th>TxsCN_T12</th>\n",
              "      <th>TxsCOL_T12</th>\n",
              "      <th>TxsDebAtm_T12</th>\n",
              "      <th>TxsDebCom_T12</th>\n",
              "      <th>TxsPAT_T12</th>\n",
              "      <th>UsoL1_T12</th>\n",
              "      <th>UsoL2_T12</th>\n",
              "      <th>UsoLI_T12</th>\n",
              "      <th>target</th>\n",
              "    </tr>\n",
              "  </thead>\n",
              "  <tbody>\n",
              "    <tr>\n",
              "      <th>Id</th>\n",
              "      <td>1.000000</td>\n",
              "      <td>-0.013686</td>\n",
              "      <td>0.015980</td>\n",
              "      <td>0.054252</td>\n",
              "      <td>0.332918</td>\n",
              "      <td>0.050817</td>\n",
              "      <td>0.145347</td>\n",
              "      <td>NaN</td>\n",
              "      <td>0.007348</td>\n",
              "      <td>-0.121160</td>\n",
              "      <td>...</td>\n",
              "      <td>-0.002012</td>\n",
              "      <td>0.018182</td>\n",
              "      <td>-0.003196</td>\n",
              "      <td>-0.093604</td>\n",
              "      <td>-0.092658</td>\n",
              "      <td>0.054642</td>\n",
              "      <td>0.025340</td>\n",
              "      <td>-0.017038</td>\n",
              "      <td>0.002876</td>\n",
              "      <td>0.018496</td>\n",
              "    </tr>\n",
              "    <tr>\n",
              "      <th>Region</th>\n",
              "      <td>-0.013686</td>\n",
              "      <td>1.000000</td>\n",
              "      <td>-0.007266</td>\n",
              "      <td>-0.047450</td>\n",
              "      <td>0.010729</td>\n",
              "      <td>0.097302</td>\n",
              "      <td>0.046028</td>\n",
              "      <td>NaN</td>\n",
              "      <td>-0.001173</td>\n",
              "      <td>-0.030331</td>\n",
              "      <td>...</td>\n",
              "      <td>0.014558</td>\n",
              "      <td>0.012104</td>\n",
              "      <td>0.003362</td>\n",
              "      <td>0.025382</td>\n",
              "      <td>0.051423</td>\n",
              "      <td>0.052349</td>\n",
              "      <td>0.015588</td>\n",
              "      <td>0.027431</td>\n",
              "      <td>0.010178</td>\n",
              "      <td>-0.014621</td>\n",
              "    </tr>\n",
              "    <tr>\n",
              "      <th>Renta</th>\n",
              "      <td>0.015980</td>\n",
              "      <td>-0.007266</td>\n",
              "      <td>1.000000</td>\n",
              "      <td>0.010060</td>\n",
              "      <td>0.143001</td>\n",
              "      <td>0.035191</td>\n",
              "      <td>0.086308</td>\n",
              "      <td>NaN</td>\n",
              "      <td>0.031051</td>\n",
              "      <td>-0.041375</td>\n",
              "      <td>...</td>\n",
              "      <td>0.049568</td>\n",
              "      <td>-0.003140</td>\n",
              "      <td>0.002301</td>\n",
              "      <td>0.051048</td>\n",
              "      <td>0.069973</td>\n",
              "      <td>0.016503</td>\n",
              "      <td>0.100551</td>\n",
              "      <td>0.025713</td>\n",
              "      <td>0.067333</td>\n",
              "      <td>-0.013111</td>\n",
              "    </tr>\n",
              "    <tr>\n",
              "      <th>Subsegmento</th>\n",
              "      <td>0.054252</td>\n",
              "      <td>-0.047450</td>\n",
              "      <td>0.010060</td>\n",
              "      <td>1.000000</td>\n",
              "      <td>-0.519442</td>\n",
              "      <td>-0.159026</td>\n",
              "      <td>-0.271497</td>\n",
              "      <td>NaN</td>\n",
              "      <td>-0.006287</td>\n",
              "      <td>0.210611</td>\n",
              "      <td>...</td>\n",
              "      <td>0.016603</td>\n",
              "      <td>-0.044145</td>\n",
              "      <td>-0.009960</td>\n",
              "      <td>0.021888</td>\n",
              "      <td>-0.006501</td>\n",
              "      <td>-0.102596</td>\n",
              "      <td>-0.145672</td>\n",
              "      <td>-0.038117</td>\n",
              "      <td>-0.001108</td>\n",
              "      <td>-0.021646</td>\n",
              "    </tr>\n",
              "    <tr>\n",
              "      <th>Edad</th>\n",
              "      <td>0.332918</td>\n",
              "      <td>0.010729</td>\n",
              "      <td>0.143001</td>\n",
              "      <td>-0.519442</td>\n",
              "      <td>1.000000</td>\n",
              "      <td>0.235544</td>\n",
              "      <td>0.524487</td>\n",
              "      <td>NaN</td>\n",
              "      <td>0.005035</td>\n",
              "      <td>-0.363856</td>\n",
              "      <td>...</td>\n",
              "      <td>-0.012724</td>\n",
              "      <td>0.091166</td>\n",
              "      <td>0.000940</td>\n",
              "      <td>-0.105422</td>\n",
              "      <td>-0.069795</td>\n",
              "      <td>0.179457</td>\n",
              "      <td>0.197700</td>\n",
              "      <td>0.019151</td>\n",
              "      <td>0.008350</td>\n",
              "      <td>0.055389</td>\n",
              "    </tr>\n",
              "    <tr>\n",
              "      <th>...</th>\n",
              "      <td>...</td>\n",
              "      <td>...</td>\n",
              "      <td>...</td>\n",
              "      <td>...</td>\n",
              "      <td>...</td>\n",
              "      <td>...</td>\n",
              "      <td>...</td>\n",
              "      <td>...</td>\n",
              "      <td>...</td>\n",
              "      <td>...</td>\n",
              "      <td>...</td>\n",
              "      <td>...</td>\n",
              "      <td>...</td>\n",
              "      <td>...</td>\n",
              "      <td>...</td>\n",
              "      <td>...</td>\n",
              "      <td>...</td>\n",
              "      <td>...</td>\n",
              "      <td>...</td>\n",
              "      <td>...</td>\n",
              "      <td>...</td>\n",
              "    </tr>\n",
              "    <tr>\n",
              "      <th>TxsPAT_T12</th>\n",
              "      <td>0.054642</td>\n",
              "      <td>0.052349</td>\n",
              "      <td>0.016503</td>\n",
              "      <td>-0.102596</td>\n",
              "      <td>0.179457</td>\n",
              "      <td>0.102711</td>\n",
              "      <td>0.181357</td>\n",
              "      <td>NaN</td>\n",
              "      <td>0.000655</td>\n",
              "      <td>-0.102504</td>\n",
              "      <td>...</td>\n",
              "      <td>-0.003632</td>\n",
              "      <td>0.000045</td>\n",
              "      <td>0.008660</td>\n",
              "      <td>0.001604</td>\n",
              "      <td>0.016019</td>\n",
              "      <td>1.000000</td>\n",
              "      <td>0.091815</td>\n",
              "      <td>0.021442</td>\n",
              "      <td>0.002174</td>\n",
              "      <td>0.045141</td>\n",
              "    </tr>\n",
              "    <tr>\n",
              "      <th>UsoL1_T12</th>\n",
              "      <td>0.025340</td>\n",
              "      <td>0.015588</td>\n",
              "      <td>0.100551</td>\n",
              "      <td>-0.145672</td>\n",
              "      <td>0.197700</td>\n",
              "      <td>0.127263</td>\n",
              "      <td>0.250658</td>\n",
              "      <td>NaN</td>\n",
              "      <td>0.011286</td>\n",
              "      <td>-0.127717</td>\n",
              "      <td>...</td>\n",
              "      <td>0.009273</td>\n",
              "      <td>0.143966</td>\n",
              "      <td>0.000291</td>\n",
              "      <td>-0.019171</td>\n",
              "      <td>-0.010898</td>\n",
              "      <td>0.091815</td>\n",
              "      <td>1.000000</td>\n",
              "      <td>0.060028</td>\n",
              "      <td>0.012223</td>\n",
              "      <td>0.059348</td>\n",
              "    </tr>\n",
              "    <tr>\n",
              "      <th>UsoL2_T12</th>\n",
              "      <td>-0.017038</td>\n",
              "      <td>0.027431</td>\n",
              "      <td>0.025713</td>\n",
              "      <td>-0.038117</td>\n",
              "      <td>0.019151</td>\n",
              "      <td>0.026070</td>\n",
              "      <td>0.019516</td>\n",
              "      <td>NaN</td>\n",
              "      <td>-0.003156</td>\n",
              "      <td>0.012932</td>\n",
              "      <td>...</td>\n",
              "      <td>-0.006001</td>\n",
              "      <td>0.024903</td>\n",
              "      <td>0.212559</td>\n",
              "      <td>0.012233</td>\n",
              "      <td>0.028019</td>\n",
              "      <td>0.021442</td>\n",
              "      <td>0.060028</td>\n",
              "      <td>1.000000</td>\n",
              "      <td>-0.002071</td>\n",
              "      <td>0.032629</td>\n",
              "    </tr>\n",
              "    <tr>\n",
              "      <th>UsoLI_T12</th>\n",
              "      <td>0.002876</td>\n",
              "      <td>0.010178</td>\n",
              "      <td>0.067333</td>\n",
              "      <td>-0.001108</td>\n",
              "      <td>0.008350</td>\n",
              "      <td>-0.001697</td>\n",
              "      <td>0.020463</td>\n",
              "      <td>NaN</td>\n",
              "      <td>0.028847</td>\n",
              "      <td>-0.016998</td>\n",
              "      <td>...</td>\n",
              "      <td>0.553598</td>\n",
              "      <td>-0.018861</td>\n",
              "      <td>-0.003150</td>\n",
              "      <td>0.006155</td>\n",
              "      <td>0.015785</td>\n",
              "      <td>0.002174</td>\n",
              "      <td>0.012223</td>\n",
              "      <td>-0.002071</td>\n",
              "      <td>1.000000</td>\n",
              "      <td>0.005924</td>\n",
              "    </tr>\n",
              "    <tr>\n",
              "      <th>target</th>\n",
              "      <td>0.018496</td>\n",
              "      <td>-0.014621</td>\n",
              "      <td>-0.013111</td>\n",
              "      <td>-0.021646</td>\n",
              "      <td>0.055389</td>\n",
              "      <td>-0.002573</td>\n",
              "      <td>0.029404</td>\n",
              "      <td>NaN</td>\n",
              "      <td>0.001963</td>\n",
              "      <td>-0.071234</td>\n",
              "      <td>...</td>\n",
              "      <td>0.005534</td>\n",
              "      <td>-0.007426</td>\n",
              "      <td>0.010066</td>\n",
              "      <td>-0.086242</td>\n",
              "      <td>-0.068002</td>\n",
              "      <td>0.045141</td>\n",
              "      <td>0.059348</td>\n",
              "      <td>0.032629</td>\n",
              "      <td>0.005924</td>\n",
              "      <td>1.000000</td>\n",
              "    </tr>\n",
              "  </tbody>\n",
              "</table>\n",
              "<p>61 rows × 61 columns</p>\n",
              "</div>\n",
              "      <button class=\"colab-df-convert\" onclick=\"convertToInteractive('df-be6c3f1a-db27-49a9-8ec2-c33c0a9dfcc8')\"\n",
              "              title=\"Convert this dataframe to an interactive table.\"\n",
              "              style=\"display:none;\">\n",
              "        \n",
              "  <svg xmlns=\"http://www.w3.org/2000/svg\" height=\"24px\"viewBox=\"0 0 24 24\"\n",
              "       width=\"24px\">\n",
              "    <path d=\"M0 0h24v24H0V0z\" fill=\"none\"/>\n",
              "    <path d=\"M18.56 5.44l.94 2.06.94-2.06 2.06-.94-2.06-.94-.94-2.06-.94 2.06-2.06.94zm-11 1L8.5 8.5l.94-2.06 2.06-.94-2.06-.94L8.5 2.5l-.94 2.06-2.06.94zm10 10l.94 2.06.94-2.06 2.06-.94-2.06-.94-.94-2.06-.94 2.06-2.06.94z\"/><path d=\"M17.41 7.96l-1.37-1.37c-.4-.4-.92-.59-1.43-.59-.52 0-1.04.2-1.43.59L10.3 9.45l-7.72 7.72c-.78.78-.78 2.05 0 2.83L4 21.41c.39.39.9.59 1.41.59.51 0 1.02-.2 1.41-.59l7.78-7.78 2.81-2.81c.8-.78.8-2.07 0-2.86zM5.41 20L4 18.59l7.72-7.72 1.47 1.35L5.41 20z\"/>\n",
              "  </svg>\n",
              "      </button>\n",
              "      \n",
              "  <style>\n",
              "    .colab-df-container {\n",
              "      display:flex;\n",
              "      flex-wrap:wrap;\n",
              "      gap: 12px;\n",
              "    }\n",
              "\n",
              "    .colab-df-convert {\n",
              "      background-color: #E8F0FE;\n",
              "      border: none;\n",
              "      border-radius: 50%;\n",
              "      cursor: pointer;\n",
              "      display: none;\n",
              "      fill: #1967D2;\n",
              "      height: 32px;\n",
              "      padding: 0 0 0 0;\n",
              "      width: 32px;\n",
              "    }\n",
              "\n",
              "    .colab-df-convert:hover {\n",
              "      background-color: #E2EBFA;\n",
              "      box-shadow: 0px 1px 2px rgba(60, 64, 67, 0.3), 0px 1px 3px 1px rgba(60, 64, 67, 0.15);\n",
              "      fill: #174EA6;\n",
              "    }\n",
              "\n",
              "    [theme=dark] .colab-df-convert {\n",
              "      background-color: #3B4455;\n",
              "      fill: #D2E3FC;\n",
              "    }\n",
              "\n",
              "    [theme=dark] .colab-df-convert:hover {\n",
              "      background-color: #434B5C;\n",
              "      box-shadow: 0px 1px 3px 1px rgba(0, 0, 0, 0.15);\n",
              "      filter: drop-shadow(0px 1px 2px rgba(0, 0, 0, 0.3));\n",
              "      fill: #FFFFFF;\n",
              "    }\n",
              "  </style>\n",
              "\n",
              "      <script>\n",
              "        const buttonEl =\n",
              "          document.querySelector('#df-be6c3f1a-db27-49a9-8ec2-c33c0a9dfcc8 button.colab-df-convert');\n",
              "        buttonEl.style.display =\n",
              "          google.colab.kernel.accessAllowed ? 'block' : 'none';\n",
              "\n",
              "        async function convertToInteractive(key) {\n",
              "          const element = document.querySelector('#df-be6c3f1a-db27-49a9-8ec2-c33c0a9dfcc8');\n",
              "          const dataTable =\n",
              "            await google.colab.kernel.invokeFunction('convertToInteractive',\n",
              "                                                     [key], {});\n",
              "          if (!dataTable) return;\n",
              "\n",
              "          const docLinkHtml = 'Like what you see? Visit the ' +\n",
              "            '<a target=\"_blank\" href=https://colab.research.google.com/notebooks/data_table.ipynb>data table notebook</a>'\n",
              "            + ' to learn more about interactive tables.';\n",
              "          element.innerHTML = '';\n",
              "          dataTable['output_type'] = 'display_data';\n",
              "          await google.colab.output.renderOutput(dataTable, element);\n",
              "          const docLink = document.createElement('div');\n",
              "          docLink.innerHTML = docLinkHtml;\n",
              "          element.appendChild(docLink);\n",
              "        }\n",
              "      </script>\n",
              "    </div>\n",
              "  </div>\n",
              "  "
            ],
            "text/plain": [
              "                   Id    Region     Renta  Subsegmento      Edad  Adicional  \\\n",
              "Id           1.000000 -0.013686  0.015980     0.054252  0.332918   0.050817   \n",
              "Region      -0.013686  1.000000 -0.007266    -0.047450  0.010729   0.097302   \n",
              "Renta        0.015980 -0.007266  1.000000     0.010060  0.143001   0.035191   \n",
              "Subsegmento  0.054252 -0.047450  0.010060     1.000000 -0.519442  -0.159026   \n",
              "Edad         0.332918  0.010729  0.143001    -0.519442  1.000000   0.235544   \n",
              "...               ...       ...       ...          ...       ...        ...   \n",
              "TxsPAT_T12   0.054642  0.052349  0.016503    -0.102596  0.179457   0.102711   \n",
              "UsoL1_T12    0.025340  0.015588  0.100551    -0.145672  0.197700   0.127263   \n",
              "UsoL2_T12   -0.017038  0.027431  0.025713    -0.038117  0.019151   0.026070   \n",
              "UsoLI_T12    0.002876  0.010178  0.067333    -0.001108  0.008350  -0.001697   \n",
              "target       0.018496 -0.014621 -0.013111    -0.021646  0.055389  -0.002573   \n",
              "\n",
              "             Antiguedad  CambioPin   Consumo    Debito  ...  TxsCI_T12  \\\n",
              "Id             0.145347        NaN  0.007348 -0.121160  ...  -0.002012   \n",
              "Region         0.046028        NaN -0.001173 -0.030331  ...   0.014558   \n",
              "Renta          0.086308        NaN  0.031051 -0.041375  ...   0.049568   \n",
              "Subsegmento   -0.271497        NaN -0.006287  0.210611  ...   0.016603   \n",
              "Edad           0.524487        NaN  0.005035 -0.363856  ...  -0.012724   \n",
              "...                 ...        ...       ...       ...  ...        ...   \n",
              "TxsPAT_T12     0.181357        NaN  0.000655 -0.102504  ...  -0.003632   \n",
              "UsoL1_T12      0.250658        NaN  0.011286 -0.127717  ...   0.009273   \n",
              "UsoL2_T12      0.019516        NaN -0.003156  0.012932  ...  -0.006001   \n",
              "UsoLI_T12      0.020463        NaN  0.028847 -0.016998  ...   0.553598   \n",
              "target         0.029404        NaN  0.001963 -0.071234  ...   0.005534   \n",
              "\n",
              "             TxsCN_T12  TxsCOL_T12  TxsDebAtm_T12  TxsDebCom_T12  TxsPAT_T12  \\\n",
              "Id            0.018182   -0.003196      -0.093604      -0.092658    0.054642   \n",
              "Region        0.012104    0.003362       0.025382       0.051423    0.052349   \n",
              "Renta        -0.003140    0.002301       0.051048       0.069973    0.016503   \n",
              "Subsegmento  -0.044145   -0.009960       0.021888      -0.006501   -0.102596   \n",
              "Edad          0.091166    0.000940      -0.105422      -0.069795    0.179457   \n",
              "...                ...         ...            ...            ...         ...   \n",
              "TxsPAT_T12    0.000045    0.008660       0.001604       0.016019    1.000000   \n",
              "UsoL1_T12     0.143966    0.000291      -0.019171      -0.010898    0.091815   \n",
              "UsoL2_T12     0.024903    0.212559       0.012233       0.028019    0.021442   \n",
              "UsoLI_T12    -0.018861   -0.003150       0.006155       0.015785    0.002174   \n",
              "target       -0.007426    0.010066      -0.086242      -0.068002    0.045141   \n",
              "\n",
              "             UsoL1_T12  UsoL2_T12  UsoLI_T12    target  \n",
              "Id            0.025340  -0.017038   0.002876  0.018496  \n",
              "Region        0.015588   0.027431   0.010178 -0.014621  \n",
              "Renta         0.100551   0.025713   0.067333 -0.013111  \n",
              "Subsegmento  -0.145672  -0.038117  -0.001108 -0.021646  \n",
              "Edad          0.197700   0.019151   0.008350  0.055389  \n",
              "...                ...        ...        ...       ...  \n",
              "TxsPAT_T12    0.091815   0.021442   0.002174  0.045141  \n",
              "UsoL1_T12     1.000000   0.060028   0.012223  0.059348  \n",
              "UsoL2_T12     0.060028   1.000000  -0.002071  0.032629  \n",
              "UsoLI_T12     0.012223  -0.002071   1.000000  0.005924  \n",
              "target        0.059348   0.032629   0.005924  1.000000  \n",
              "\n",
              "[61 rows x 61 columns]"
            ]
          },
          "execution_count": 18,
          "metadata": {},
          "output_type": "execute_result"
        },
        {
          "name": "stdout",
          "output_type": "stream",
          "text": [
            "Warning: Total number of columns (61) exceeds max_columns (20) limiting to first (20) columns.\n"
          ]
        }
      ],
      "source": [
        "#Correlación de los datos\n",
        "df.corr()"
      ]
    },
    {
      "cell_type": "code",
      "execution_count": null,
      "metadata": {
        "colab": {
          "base_uri": "https://localhost:8080/",
          "height": 265
        },
        "id": "4ckNLugnZBG7",
        "outputId": "c229efa6-2d3a-4c58-cbc7-2354a93be192"
      },
      "outputs": [
        {
          "data": {
            "image/png": "[encoded data removed]",
            "text/plain": [
              "<Figure size 432x288 with 1 Axes>"
            ]
          },
          "metadata": {
            "needs_background": "light"
          },
          "output_type": "display_data"
        }
      ],
      "source": [
        "#Histograma por Edad\n",
        "df['Edad'].plot.hist();"
      ]
    },
    {
      "cell_type": "code",
      "execution_count": null,
      "metadata": {
        "colab": {
          "base_uri": "https://localhost:8080/",
          "height": 265
        },
        "id": "Om6kejfkbwKm",
        "outputId": "3bc095da-26a4-477d-8f96-6207ab8d730b"
      },
      "outputs": [
        {
          "data": {
            "image/png": "[encoded data removed]",
            "text/plain": [
              "<Figure size 432x288 with 1 Axes>"
            ]
          },
          "metadata": {
            "needs_background": "light"
          },
          "output_type": "display_data"
        }
      ],
      "source": [
        "#Histograma por Antiguedad (meses)\n",
        "df['Antiguedad'].plot.hist();"
      ]
    },
    {
      "cell_type": "code",
      "execution_count": null,
      "metadata": {
        "colab": {
          "base_uri": "https://localhost:8080/",
          "height": 266
        },
        "id": "dOv_FWfGaFEw",
        "outputId": "191ce750-2299-4e1f-9eea-29359216c989"
      },
      "outputs": [
        {
          "data": {
            "image/png": "[encoded data removed]",
            "text/plain": [
              "<Figure size 432x288 with 1 Axes>"
            ]
          },
          "metadata": {
            "needs_background": "light"
          },
          "output_type": "display_data"
        }
      ],
      "source": [
        "#Histograma por Regiones\n",
        "df['Region'].plot.hist();"
      ]
    },
    {
      "cell_type": "markdown",
      "metadata": {
        "id": "dDNDKEUGaJm3"
      },
      "source": [
        "> *Una vez visto los 3 ultimos histogramas, podemos darnos cuenta que la **mayor** cantidad de clientes se encuentra en una misma región(12) y rondan entre los 20 y los 80 años de edad aproximadamente. También se podría interpretar que los clientes que tienen alrededor de 30 años son mayoría y son muy pocos los que pasan los 50 meses de antiguedad.*"
      ]
    },
    {
      "cell_type": "code",
      "execution_count": null,
      "metadata": {
        "colab": {
          "base_uri": "https://localhost:8080/",
          "height": 423
        },
        "id": "_ExIPgGEc8mM",
        "outputId": "7966bf0a-c628-4dc9-de6c-5b51fc08ad83"
      },
      "outputs": [
        {
          "data": {
            "image/png": "[encoded data removed]",
            "text/plain": [
              "<Figure size 432x288 with 1 Axes>"
            ]
          },
          "metadata": {
            "needs_background": "light"
          },
          "output_type": "display_data"
        }
      ],
      "source": [
        "from scipy import stats\n",
        "def normalidad_variable_numerica(col):\n",
        "    stats.probplot(df['Edad'], plot=plt)\n",
        "    plt.xlabel('Diagrama de Probabilidad(normal) de la variable {}'.format(col))\n",
        "    plt.show()\n",
        "\n",
        "normalidad_variable_numerica(df['Edad'])"
      ]
    },
    {
      "cell_type": "markdown",
      "metadata": {
        "id": "PyEFymxVfBMr"
      },
      "source": [
        "> En el gráfico anterior, la linea roja representa una linea de 45 grados, mientras mas se acerque la linea punteada azul (edad) a los 45 grados, mas normal será. Por lo tanto, podemos decir que la variable edad no posee una distribución normal."
      ]
    },
    {
      "cell_type": "code",
      "execution_count": null,
      "metadata": {
        "colab": {
          "base_uri": "https://localhost:8080/"
        },
        "id": "7tdL6IoWQUxL",
        "outputId": "3192a1ee-8ea5-4980-88cd-74535a7aa499"
      },
      "outputs": [
        {
          "data": {
            "text/plain": [
              "0         NaN\n",
              "1    143640.0\n",
              "2    929106.0\n",
              "3    172447.0\n",
              "4    805250.0\n",
              "Name: Renta, dtype: float64"
            ]
          },
          "execution_count": 23,
          "metadata": {},
          "output_type": "execute_result"
        }
      ],
      "source": [
        "#Definimos renta y utilizamos head para ver los primeros 5 datos\n",
        "X = df['Renta']\n",
        "X.head()"
      ]
    },
    {
      "cell_type": "code",
      "execution_count": null,
      "metadata": {
        "colab": {
          "base_uri": "https://localhost:8080/"
        },
        "id": "IEEY_IHZi2rR",
        "outputId": "fb9c696a-db2b-401c-f7d3-823b2b01a079"
      },
      "outputs": [
        {
          "name": "stdout",
          "output_type": "stream",
          "text": [
            "La media es: 663077.1\n",
            "La variancia es: 167509676597.27\n",
            "La desviación estandar es: 409279.46\n",
            "Coef. de variación es: 0.62\n"
          ]
        }
      ],
      "source": [
        "#Medidas de tendencia central de la Renta\n",
        "print('La media es: {:0.1f}'.format(X.mean()))\n",
        "print('La variancia es: {:0.2f}'.format(X.var()))\n",
        "print('La desviación estandar es: {:0.2f}'.format(X.std()))\n",
        "print('Coef. de variación es: {:0.2f}'.format(X.std()/X.mean()))"
      ]
    },
    {
      "cell_type": "markdown",
      "metadata": {
        "id": "BKcXFHxykgRG"
      },
      "source": [
        "> Con los resultados anteriores, podemos afirmar que en promedio la renta de los clientes es de 663.077 pesos y los datos tienen una dispersión alta. Si no hubiera ninguna variación en los datos, es decir, si fueran todos iguales, la desviación estándar sería cero. Por lo tanto, en este caso la variación de la renta de los clientes es alta. "
      ]
    },
    {
      "cell_type": "code",
      "execution_count": null,
      "metadata": {
        "colab": {
          "base_uri": "https://localhost:8080/"
        },
        "id": "9l71S7Jem3Hu",
        "outputId": "5fc31233-76b3-4e55-c27c-06e24ebe0066"
      },
      "outputs": [
        {
          "name": "stdout",
          "output_type": "stream",
          "text": [
            "Columna Id no sigue una distribución normal\n",
            "Columna Subsegmento no sigue una distribución normal\n",
            "Columna Edad no sigue una distribución normal\n",
            "Columna Adicional no sigue una distribución normal\n",
            "Columna Antiguedad no sigue una distribución normal\n",
            "Columna Consumo no sigue una distribución normal\n",
            "Columna Debito no sigue una distribución normal\n",
            "Columna Ctacte no sigue una distribución normal\n",
            "Columna Cuentas no sigue una distribución normal\n",
            "Columna Hipotecario no sigue una distribución normal\n",
            "Columna Internauta no sigue una distribución normal\n",
            "Columna Monoproducto no sigue una distribución normal\n",
            "Columna TC no sigue una distribución normal\n",
            "Columna Dualidad no sigue una distribución normal\n",
            "Columna CUPO_L1 no sigue una distribución normal\n",
            "Columna CUPO_MX no sigue una distribución normal\n",
            "Columna CUPO_L2 no sigue una distribución normal\n",
            "Columna target no sigue una distribución normal\n"
          ]
        }
      ],
      "source": [
        "#Test de normalidad\n",
        "columnas_numericas = df.select_dtypes(['int', 'float']).columns\n",
        "for num_col in columnas_numericas:\n",
        "    _, pval = stats.normaltest(df[num_col])\n",
        "    if(pval < 0.05):\n",
        "        print(\"Columna {} no sigue una distribución normal\".format(num_col))"
      ]
    },
    {
      "cell_type": "code",
      "execution_count": null,
      "metadata": {
        "colab": {
          "base_uri": "https://localhost:8080/",
          "height": 265
        },
        "id": "9LAhjRFaocjN",
        "outputId": "ab3ccdc3-c025-4485-9471-00e01f7ddcc8"
      },
      "outputs": [
        {
          "data": {
            "image/png": "[encoded data removed]",
            "text/plain": [
              "<Figure size 432x288 with 1 Axes>"
            ]
          },
          "metadata": {
            "needs_background": "light"
          },
          "output_type": "display_data"
        }
      ],
      "source": [
        "#Distribución de variables categóricas\n",
        "def distribucion_variable_categorica(col):\n",
        "    df[col].value_counts(ascending=True,normalize=True).tail(20).plot.barh()\n",
        "    plt.show()\n",
        "distribucion_variable_categorica('target')"
      ]
    },
    {
      "cell_type": "markdown",
      "metadata": {
        "id": "nMuh-A6-pGC9"
      },
      "source": [
        "> Como se puede observar, mas del 90% de los clientes paga la totalidad del monto mientras que el resto paga el mínimo."
      ]
    },
    {
      "cell_type": "markdown",
      "metadata": {
        "id": "DxV3WWuQi1kI"
      },
      "source": [
        "# Pre procesamiento de datos"
      ]
    },
    {
      "cell_type": "markdown",
      "metadata": {
        "id": "bg7QmH68aleO"
      },
      "source": [
        "Normalización y estandarización\n",
        "\n"
      ]
    },
    {
      "cell_type": "code",
      "execution_count": null,
      "metadata": {
        "id": "xMK2psxnLs0_"
      },
      "outputs": [],
      "source": [
        "# Transformando variable Sexo a valores numéricos\n",
        "# 0 = Mujer\n",
        "# 1 = Hombre\n",
        "df[\"Sexo\"].replace({\"M\": \"0\", \"H\": \"1\"}, inplace=True)\n",
        "# 0=R \n",
        "# 1=T\n",
        "# 3=P\n",
        "#Remplazando por valores numericos para el escalamiento de datos (se utiliza el df completo y no una columna especifica porque el dato se repetía en varias columnas y no afecta)\n",
        "df.replace({\"R\": \"0\", \"T\": \"1\", \"P\": \"2\"}, inplace=True)"
      ]
    },
    {
      "cell_type": "markdown",
      "metadata": {
        "id": "yrbRF2HkUKz3"
      },
      "source": [
        "KNN e Imputación de datos"
      ]
    },
    {
      "cell_type": "code",
      "execution_count": null,
      "metadata": {
        "id": "Ui7wonTUURZw"
      },
      "outputs": [],
      "source": [
        "# Creamos un objeto de KNN imputer. con 2 vecinos y parámetro weights = uniform.\n",
        "imputer = KNNImputer(n_neighbors=2, weights=\"uniform\")\n",
        "df_imputado = imputer.fit_transform(df)"
      ]
    },
    {
      "cell_type": "code",
      "execution_count": null,
      "metadata": {
        "id": "kqhTXGJcU2do"
      },
      "outputs": [],
      "source": [
        "#Asignación de datos imputados a un nuevo dataframe\n",
        "df1=pd.DataFrame(df_imputado, columns=df.columns)"
      ]
    },
    {
      "cell_type": "code",
      "execution_count": null,
      "metadata": {
        "colab": {
          "base_uri": "https://localhost:8080/"
        },
        "id": "rVYpsRqDZGST",
        "outputId": "3583c04f-1e67-41b9-f24b-721f2d2ddb51"
      },
      "outputs": [
        {
          "name": "stdout",
          "output_type": "stream",
          "text": [
            "La cantidad de valores nulos es: 0\n"
          ]
        }
      ],
      "source": [
        "#Revisión de datos nulos\n",
        "nulos = df1.isnull().sum().sum()\n",
        "print('La cantidad de valores nulos es:',nulos)"
      ]
    },
    {
      "cell_type": "markdown",
      "metadata": {
        "id": "Buovbw58aI2p"
      },
      "source": [
        ">Debido a la imputación de datos, se pudieron remplazar todos los valores nulos dejandolos en un total de 0."
      ]
    },
    {
      "cell_type": "markdown",
      "metadata": {
        "id": "VRQ0PYsx5bv2"
      },
      "source": [
        "Escalamiento de datos\n"
      ]
    },
    {
      "cell_type": "code",
      "execution_count": null,
      "metadata": {
        "colab": {
          "base_uri": "https://localhost:8080/"
        },
        "id": "553yJ6yObEC0",
        "outputId": "013e7ce8-926d-4052-fb45-5415326f75c8"
      },
      "outputs": [
        {
          "data": {
            "text/plain": [
              "array([[-1.73201693,  0.64041926, -0.35222646, ..., -0.22323253,\n",
              "        -0.09500264, -0.31444189],\n",
              "       [-1.73194917,  0.64041926, -1.21626985, ...,  0.35558298,\n",
              "        -0.09500264, -0.31444189],\n",
              "       [-1.73188141,  0.64041926,  0.74351861, ..., -0.28114942,\n",
              "        -0.09500264, -0.31444189],\n",
              "       ...,\n",
              "       [ 1.73188141,  0.64041926,  0.43691009, ..., -0.24088275,\n",
              "        -0.09500264, -0.31444189],\n",
              "       [ 1.73194917,  0.64041926,  0.28432566, ..., -0.24924368,\n",
              "        -0.09605721, -0.31444189],\n",
              "       [ 1.73201693,  0.64041926,  0.52338404, ..., -0.28114942,\n",
              "        -0.09500264, -0.31444189]])"
            ]
          },
          "execution_count": 31,
          "metadata": {},
          "output_type": "execute_result"
        }
      ],
      "source": [
        "# Se crea primero el objeto Standard Scaler\n",
        "scaler = StandardScaler()\n",
        "\n",
        "# Luego \"entrenamos\" con los datos para obtener los parámetros del escalamiento\n",
        "scaler.fit(df1)\n",
        "\n",
        "# Finalmente aplicamos el escalamiento\n",
        "array_scaler = scaler.transform(df1)\n",
        "array_scaler"
      ]
    },
    {
      "cell_type": "code",
      "execution_count": null,
      "metadata": {
        "colab": {
          "base_uri": "https://localhost:8080/",
          "height": 488
        },
        "id": "ssrlDorcxkDc",
        "outputId": "b5ce8ffe-f6d5-45a7-eca7-3ccfa9f5a023"
      },
      "outputs": [
        {
          "data": {
            "text/html": [
              "\n",
              "  <div id=\"df-fb4a232c-c02e-454c-9b24-facc652b6704\">\n",
              "    <div class=\"colab-df-container\">\n",
              "      <div>\n",
              "<style scoped>\n",
              "    .dataframe tbody tr th:only-of-type {\n",
              "        vertical-align: middle;\n",
              "    }\n",
              "\n",
              "    .dataframe tbody tr th {\n",
              "        vertical-align: top;\n",
              "    }\n",
              "\n",
              "    .dataframe thead th {\n",
              "        text-align: right;\n",
              "    }\n",
              "</style>\n",
              "<table border=\"1\" class=\"dataframe\">\n",
              "  <thead>\n",
              "    <tr style=\"text-align: right;\">\n",
              "      <th></th>\n",
              "      <th>0</th>\n",
              "      <th>1</th>\n",
              "      <th>2</th>\n",
              "      <th>3</th>\n",
              "      <th>4</th>\n",
              "      <th>5</th>\n",
              "      <th>6</th>\n",
              "      <th>7</th>\n",
              "      <th>8</th>\n",
              "      <th>9</th>\n",
              "      <th>...</th>\n",
              "      <th>52</th>\n",
              "      <th>53</th>\n",
              "      <th>54</th>\n",
              "      <th>55</th>\n",
              "      <th>56</th>\n",
              "      <th>57</th>\n",
              "      <th>58</th>\n",
              "      <th>59</th>\n",
              "      <th>60</th>\n",
              "      <th>61</th>\n",
              "    </tr>\n",
              "  </thead>\n",
              "  <tbody>\n",
              "    <tr>\n",
              "      <th>0</th>\n",
              "      <td>-1.732017</td>\n",
              "      <td>0.640419</td>\n",
              "      <td>-0.352226</td>\n",
              "      <td>-1.07514</td>\n",
              "      <td>-0.752290</td>\n",
              "      <td>0.323032</td>\n",
              "      <td>1.703963</td>\n",
              "      <td>2.553917</td>\n",
              "      <td>0.0</td>\n",
              "      <td>-0.03001</td>\n",
              "      <td>...</td>\n",
              "      <td>-0.124145</td>\n",
              "      <td>0.233552</td>\n",
              "      <td>-0.054182</td>\n",
              "      <td>0.063565</td>\n",
              "      <td>3.149059</td>\n",
              "      <td>-0.313228</td>\n",
              "      <td>2.025581</td>\n",
              "      <td>-0.223233</td>\n",
              "      <td>-0.095003</td>\n",
              "      <td>-0.314442</td>\n",
              "    </tr>\n",
              "    <tr>\n",
              "      <th>1</th>\n",
              "      <td>-1.731949</td>\n",
              "      <td>0.640419</td>\n",
              "      <td>-1.216270</td>\n",
              "      <td>0.93013</td>\n",
              "      <td>-0.752290</td>\n",
              "      <td>0.548555</td>\n",
              "      <td>-0.586867</td>\n",
              "      <td>0.843902</td>\n",
              "      <td>0.0</td>\n",
              "      <td>-0.03001</td>\n",
              "      <td>...</td>\n",
              "      <td>-0.124145</td>\n",
              "      <td>-0.351834</td>\n",
              "      <td>-0.054182</td>\n",
              "      <td>-0.726031</td>\n",
              "      <td>-0.509695</td>\n",
              "      <td>-0.313228</td>\n",
              "      <td>0.313314</td>\n",
              "      <td>0.355583</td>\n",
              "      <td>-0.095003</td>\n",
              "      <td>-0.314442</td>\n",
              "    </tr>\n",
              "    <tr>\n",
              "      <th>2</th>\n",
              "      <td>-1.731881</td>\n",
              "      <td>0.640419</td>\n",
              "      <td>0.743519</td>\n",
              "      <td>0.93013</td>\n",
              "      <td>-0.410717</td>\n",
              "      <td>0.473381</td>\n",
              "      <td>1.703963</td>\n",
              "      <td>-0.417584</td>\n",
              "      <td>0.0</td>\n",
              "      <td>-0.03001</td>\n",
              "      <td>...</td>\n",
              "      <td>-0.124145</td>\n",
              "      <td>0.233552</td>\n",
              "      <td>-0.054182</td>\n",
              "      <td>1.379559</td>\n",
              "      <td>0.100097</td>\n",
              "      <td>-0.313228</td>\n",
              "      <td>-0.215816</td>\n",
              "      <td>-0.281149</td>\n",
              "      <td>-0.095003</td>\n",
              "      <td>-0.314442</td>\n",
              "    </tr>\n",
              "    <tr>\n",
              "      <th>3</th>\n",
              "      <td>-1.731814</td>\n",
              "      <td>0.640419</td>\n",
              "      <td>-1.144395</td>\n",
              "      <td>0.93013</td>\n",
              "      <td>-1.059706</td>\n",
              "      <td>0.548555</td>\n",
              "      <td>1.703963</td>\n",
              "      <td>2.666049</td>\n",
              "      <td>0.0</td>\n",
              "      <td>-0.03001</td>\n",
              "      <td>...</td>\n",
              "      <td>-0.124145</td>\n",
              "      <td>0.233552</td>\n",
              "      <td>-0.054182</td>\n",
              "      <td>-0.726031</td>\n",
              "      <td>-0.509695</td>\n",
              "      <td>-0.313228</td>\n",
              "      <td>0.713979</td>\n",
              "      <td>-0.248354</td>\n",
              "      <td>-0.095003</td>\n",
              "      <td>-0.314442</td>\n",
              "    </tr>\n",
              "    <tr>\n",
              "      <th>4</th>\n",
              "      <td>-1.731746</td>\n",
              "      <td>0.640419</td>\n",
              "      <td>0.434490</td>\n",
              "      <td>0.93013</td>\n",
              "      <td>-0.410717</td>\n",
              "      <td>0.548555</td>\n",
              "      <td>1.703963</td>\n",
              "      <td>2.161455</td>\n",
              "      <td>0.0</td>\n",
              "      <td>-0.03001</td>\n",
              "      <td>...</td>\n",
              "      <td>-0.124145</td>\n",
              "      <td>1.111631</td>\n",
              "      <td>-0.054182</td>\n",
              "      <td>-0.726031</td>\n",
              "      <td>-0.509695</td>\n",
              "      <td>-0.313228</td>\n",
              "      <td>-0.310413</td>\n",
              "      <td>0.242789</td>\n",
              "      <td>-0.095003</td>\n",
              "      <td>-0.314442</td>\n",
              "    </tr>\n",
              "    <tr>\n",
              "      <th>...</th>\n",
              "      <td>...</td>\n",
              "      <td>...</td>\n",
              "      <td>...</td>\n",
              "      <td>...</td>\n",
              "      <td>...</td>\n",
              "      <td>...</td>\n",
              "      <td>...</td>\n",
              "      <td>...</td>\n",
              "      <td>...</td>\n",
              "      <td>...</td>\n",
              "      <td>...</td>\n",
              "      <td>...</td>\n",
              "      <td>...</td>\n",
              "      <td>...</td>\n",
              "      <td>...</td>\n",
              "      <td>...</td>\n",
              "      <td>...</td>\n",
              "      <td>...</td>\n",
              "      <td>...</td>\n",
              "      <td>...</td>\n",
              "      <td>...</td>\n",
              "    </tr>\n",
              "    <tr>\n",
              "      <th>51119</th>\n",
              "      <td>1.731746</td>\n",
              "      <td>0.640419</td>\n",
              "      <td>-0.664017</td>\n",
              "      <td>0.93013</td>\n",
              "      <td>-0.752290</td>\n",
              "      <td>0.924426</td>\n",
              "      <td>1.703963</td>\n",
              "      <td>0.507506</td>\n",
              "      <td>0.0</td>\n",
              "      <td>-0.03001</td>\n",
              "      <td>...</td>\n",
              "      <td>-0.124145</td>\n",
              "      <td>1.989710</td>\n",
              "      <td>-0.054182</td>\n",
              "      <td>1.379559</td>\n",
              "      <td>-0.509695</td>\n",
              "      <td>-0.313228</td>\n",
              "      <td>1.385604</td>\n",
              "      <td>-0.204560</td>\n",
              "      <td>-0.095003</td>\n",
              "      <td>-0.314442</td>\n",
              "    </tr>\n",
              "    <tr>\n",
              "      <th>51120</th>\n",
              "      <td>1.731814</td>\n",
              "      <td>0.640419</td>\n",
              "      <td>-0.014307</td>\n",
              "      <td>0.93013</td>\n",
              "      <td>-0.410717</td>\n",
              "      <td>0.924426</td>\n",
              "      <td>-0.586867</td>\n",
              "      <td>0.002911</td>\n",
              "      <td>0.0</td>\n",
              "      <td>-0.03001</td>\n",
              "      <td>...</td>\n",
              "      <td>-0.124145</td>\n",
              "      <td>-0.644527</td>\n",
              "      <td>-0.054182</td>\n",
              "      <td>-0.726031</td>\n",
              "      <td>-0.509695</td>\n",
              "      <td>1.182240</td>\n",
              "      <td>-0.547848</td>\n",
              "      <td>-0.281149</td>\n",
              "      <td>-0.095003</td>\n",
              "      <td>-0.314442</td>\n",
              "    </tr>\n",
              "    <tr>\n",
              "      <th>51121</th>\n",
              "      <td>1.731881</td>\n",
              "      <td>0.640419</td>\n",
              "      <td>0.436910</td>\n",
              "      <td>0.93013</td>\n",
              "      <td>-0.752290</td>\n",
              "      <td>0.623729</td>\n",
              "      <td>1.703963</td>\n",
              "      <td>3.198677</td>\n",
              "      <td>0.0</td>\n",
              "      <td>-0.03001</td>\n",
              "      <td>...</td>\n",
              "      <td>-0.124145</td>\n",
              "      <td>0.233552</td>\n",
              "      <td>-0.054182</td>\n",
              "      <td>-0.594432</td>\n",
              "      <td>-0.509695</td>\n",
              "      <td>-0.313228</td>\n",
              "      <td>-0.183709</td>\n",
              "      <td>-0.240883</td>\n",
              "      <td>-0.095003</td>\n",
              "      <td>-0.314442</td>\n",
              "    </tr>\n",
              "    <tr>\n",
              "      <th>51122</th>\n",
              "      <td>1.731949</td>\n",
              "      <td>0.640419</td>\n",
              "      <td>0.284326</td>\n",
              "      <td>-1.07514</td>\n",
              "      <td>-0.752290</td>\n",
              "      <td>0.623729</td>\n",
              "      <td>-0.586867</td>\n",
              "      <td>-0.782014</td>\n",
              "      <td>0.0</td>\n",
              "      <td>-0.03001</td>\n",
              "      <td>...</td>\n",
              "      <td>-0.124145</td>\n",
              "      <td>-0.644527</td>\n",
              "      <td>-0.054182</td>\n",
              "      <td>-0.265433</td>\n",
              "      <td>-0.387737</td>\n",
              "      <td>-0.313228</td>\n",
              "      <td>-0.376066</td>\n",
              "      <td>-0.249244</td>\n",
              "      <td>-0.096057</td>\n",
              "      <td>-0.314442</td>\n",
              "    </tr>\n",
              "    <tr>\n",
              "      <th>51123</th>\n",
              "      <td>1.732017</td>\n",
              "      <td>0.640419</td>\n",
              "      <td>0.523384</td>\n",
              "      <td>0.93013</td>\n",
              "      <td>-0.410717</td>\n",
              "      <td>0.924426</td>\n",
              "      <td>1.703963</td>\n",
              "      <td>1.012100</td>\n",
              "      <td>0.0</td>\n",
              "      <td>-0.03001</td>\n",
              "      <td>...</td>\n",
              "      <td>-0.124145</td>\n",
              "      <td>-0.059141</td>\n",
              "      <td>-0.054182</td>\n",
              "      <td>0.853162</td>\n",
              "      <td>1.685557</td>\n",
              "      <td>-0.313228</td>\n",
              "      <td>-0.290072</td>\n",
              "      <td>-0.281149</td>\n",
              "      <td>-0.095003</td>\n",
              "      <td>-0.314442</td>\n",
              "    </tr>\n",
              "  </tbody>\n",
              "</table>\n",
              "<p>51124 rows × 62 columns</p>\n",
              "</div>\n",
              "      <button class=\"colab-df-convert\" onclick=\"convertToInteractive('df-fb4a232c-c02e-454c-9b24-facc652b6704')\"\n",
              "              title=\"Convert this dataframe to an interactive table.\"\n",
              "              style=\"display:none;\">\n",
              "        \n",
              "  <svg xmlns=\"http://www.w3.org/2000/svg\" height=\"24px\"viewBox=\"0 0 24 24\"\n",
              "       width=\"24px\">\n",
              "    <path d=\"M0 0h24v24H0V0z\" fill=\"none\"/>\n",
              "    <path d=\"M18.56 5.44l.94 2.06.94-2.06 2.06-.94-2.06-.94-.94-2.06-.94 2.06-2.06.94zm-11 1L8.5 8.5l.94-2.06 2.06-.94-2.06-.94L8.5 2.5l-.94 2.06-2.06.94zm10 10l.94 2.06.94-2.06 2.06-.94-2.06-.94-.94-2.06-.94 2.06-2.06.94z\"/><path d=\"M17.41 7.96l-1.37-1.37c-.4-.4-.92-.59-1.43-.59-.52 0-1.04.2-1.43.59L10.3 9.45l-7.72 7.72c-.78.78-.78 2.05 0 2.83L4 21.41c.39.39.9.59 1.41.59.51 0 1.02-.2 1.41-.59l7.78-7.78 2.81-2.81c.8-.78.8-2.07 0-2.86zM5.41 20L4 18.59l7.72-7.72 1.47 1.35L5.41 20z\"/>\n",
              "  </svg>\n",
              "      </button>\n",
              "      \n",
              "  <style>\n",
              "    .colab-df-container {\n",
              "      display:flex;\n",
              "      flex-wrap:wrap;\n",
              "      gap: 12px;\n",
              "    }\n",
              "\n",
              "    .colab-df-convert {\n",
              "      background-color: #E8F0FE;\n",
              "      border: none;\n",
              "      border-radius: 50%;\n",
              "      cursor: pointer;\n",
              "      display: none;\n",
              "      fill: #1967D2;\n",
              "      height: 32px;\n",
              "      padding: 0 0 0 0;\n",
              "      width: 32px;\n",
              "    }\n",
              "\n",
              "    .colab-df-convert:hover {\n",
              "      background-color: #E2EBFA;\n",
              "      box-shadow: 0px 1px 2px rgba(60, 64, 67, 0.3), 0px 1px 3px 1px rgba(60, 64, 67, 0.15);\n",
              "      fill: #174EA6;\n",
              "    }\n",
              "\n",
              "    [theme=dark] .colab-df-convert {\n",
              "      background-color: #3B4455;\n",
              "      fill: #D2E3FC;\n",
              "    }\n",
              "\n",
              "    [theme=dark] .colab-df-convert:hover {\n",
              "      background-color: #434B5C;\n",
              "      box-shadow: 0px 1px 3px 1px rgba(0, 0, 0, 0.15);\n",
              "      filter: drop-shadow(0px 1px 2px rgba(0, 0, 0, 0.3));\n",
              "      fill: #FFFFFF;\n",
              "    }\n",
              "  </style>\n",
              "\n",
              "      <script>\n",
              "        const buttonEl =\n",
              "          document.querySelector('#df-fb4a232c-c02e-454c-9b24-facc652b6704 button.colab-df-convert');\n",
              "        buttonEl.style.display =\n",
              "          google.colab.kernel.accessAllowed ? 'block' : 'none';\n",
              "\n",
              "        async function convertToInteractive(key) {\n",
              "          const element = document.querySelector('#df-fb4a232c-c02e-454c-9b24-facc652b6704');\n",
              "          const dataTable =\n",
              "            await google.colab.kernel.invokeFunction('convertToInteractive',\n",
              "                                                     [key], {});\n",
              "          if (!dataTable) return;\n",
              "\n",
              "          const docLinkHtml = 'Like what you see? Visit the ' +\n",
              "            '<a target=\"_blank\" href=https://colab.research.google.com/notebooks/data_table.ipynb>data table notebook</a>'\n",
              "            + ' to learn more about interactive tables.';\n",
              "          element.innerHTML = '';\n",
              "          dataTable['output_type'] = 'display_data';\n",
              "          await google.colab.output.renderOutput(dataTable, element);\n",
              "          const docLink = document.createElement('div');\n",
              "          docLink.innerHTML = docLinkHtml;\n",
              "          element.appendChild(docLink);\n",
              "        }\n",
              "      </script>\n",
              "    </div>\n",
              "  </div>\n",
              "  "
            ],
            "text/plain": [
              "             0         1         2        3         4         5         6   \\\n",
              "0     -1.732017  0.640419 -0.352226 -1.07514 -0.752290  0.323032  1.703963   \n",
              "1     -1.731949  0.640419 -1.216270  0.93013 -0.752290  0.548555 -0.586867   \n",
              "2     -1.731881  0.640419  0.743519  0.93013 -0.410717  0.473381  1.703963   \n",
              "3     -1.731814  0.640419 -1.144395  0.93013 -1.059706  0.548555  1.703963   \n",
              "4     -1.731746  0.640419  0.434490  0.93013 -0.410717  0.548555  1.703963   \n",
              "...         ...       ...       ...      ...       ...       ...       ...   \n",
              "51119  1.731746  0.640419 -0.664017  0.93013 -0.752290  0.924426  1.703963   \n",
              "51120  1.731814  0.640419 -0.014307  0.93013 -0.410717  0.924426 -0.586867   \n",
              "51121  1.731881  0.640419  0.436910  0.93013 -0.752290  0.623729  1.703963   \n",
              "51122  1.731949  0.640419  0.284326 -1.07514 -0.752290  0.623729 -0.586867   \n",
              "51123  1.732017  0.640419  0.523384  0.93013 -0.410717  0.924426  1.703963   \n",
              "\n",
              "             7    8        9   ...        52        53        54        55  \\\n",
              "0      2.553917  0.0 -0.03001  ... -0.124145  0.233552 -0.054182  0.063565   \n",
              "1      0.843902  0.0 -0.03001  ... -0.124145 -0.351834 -0.054182 -0.726031   \n",
              "2     -0.417584  0.0 -0.03001  ... -0.124145  0.233552 -0.054182  1.379559   \n",
              "3      2.666049  0.0 -0.03001  ... -0.124145  0.233552 -0.054182 -0.726031   \n",
              "4      2.161455  0.0 -0.03001  ... -0.124145  1.111631 -0.054182 -0.726031   \n",
              "...         ...  ...      ...  ...       ...       ...       ...       ...   \n",
              "51119  0.507506  0.0 -0.03001  ... -0.124145  1.989710 -0.054182  1.379559   \n",
              "51120  0.002911  0.0 -0.03001  ... -0.124145 -0.644527 -0.054182 -0.726031   \n",
              "51121  3.198677  0.0 -0.03001  ... -0.124145  0.233552 -0.054182 -0.594432   \n",
              "51122 -0.782014  0.0 -0.03001  ... -0.124145 -0.644527 -0.054182 -0.265433   \n",
              "51123  1.012100  0.0 -0.03001  ... -0.124145 -0.059141 -0.054182  0.853162   \n",
              "\n",
              "             56        57        58        59        60        61  \n",
              "0      3.149059 -0.313228  2.025581 -0.223233 -0.095003 -0.314442  \n",
              "1     -0.509695 -0.313228  0.313314  0.355583 -0.095003 -0.314442  \n",
              "2      0.100097 -0.313228 -0.215816 -0.281149 -0.095003 -0.314442  \n",
              "3     -0.509695 -0.313228  0.713979 -0.248354 -0.095003 -0.314442  \n",
              "4     -0.509695 -0.313228 -0.310413  0.242789 -0.095003 -0.314442  \n",
              "...         ...       ...       ...       ...       ...       ...  \n",
              "51119 -0.509695 -0.313228  1.385604 -0.204560 -0.095003 -0.314442  \n",
              "51120 -0.509695  1.182240 -0.547848 -0.281149 -0.095003 -0.314442  \n",
              "51121 -0.509695 -0.313228 -0.183709 -0.240883 -0.095003 -0.314442  \n",
              "51122 -0.387737 -0.313228 -0.376066 -0.249244 -0.096057 -0.314442  \n",
              "51123  1.685557 -0.313228 -0.290072 -0.281149 -0.095003 -0.314442  \n",
              "\n",
              "[51124 rows x 62 columns]"
            ]
          },
          "execution_count": 32,
          "metadata": {},
          "output_type": "execute_result"
        }
      ],
      "source": [
        "#Traspasando array a un dataframe\n",
        "df_scaler = pd.DataFrame(array_scaler)\n",
        "df_scaler"
      ]
    },
    {
      "cell_type": "code",
      "execution_count": null,
      "metadata": {
        "colab": {
          "base_uri": "https://localhost:8080/",
          "height": 300
        },
        "id": "usXY-2qIxvZD",
        "outputId": "baca516f-3c9b-4d7d-ed0c-13199ed61f47"
      },
      "outputs": [
        {
          "data": {
            "text/html": [
              "\n",
              "  <div id=\"df-a56b2063-2b97-4bbb-9453-d799cfafc44f\">\n",
              "    <div class=\"colab-df-container\">\n",
              "      <div>\n",
              "<style scoped>\n",
              "    .dataframe tbody tr th:only-of-type {\n",
              "        vertical-align: middle;\n",
              "    }\n",
              "\n",
              "    .dataframe tbody tr th {\n",
              "        vertical-align: top;\n",
              "    }\n",
              "\n",
              "    .dataframe thead th {\n",
              "        text-align: right;\n",
              "    }\n",
              "</style>\n",
              "<table border=\"1\" class=\"dataframe\">\n",
              "  <thead>\n",
              "    <tr style=\"text-align: right;\">\n",
              "      <th></th>\n",
              "      <th>Id</th>\n",
              "      <th>Region</th>\n",
              "      <th>Renta</th>\n",
              "      <th>Sexo</th>\n",
              "      <th>Subsegmento</th>\n",
              "      <th>Edad</th>\n",
              "      <th>Adicional</th>\n",
              "      <th>Antiguedad</th>\n",
              "      <th>CambioPin</th>\n",
              "      <th>Consumo</th>\n",
              "      <th>...</th>\n",
              "      <th>TxsCI_T12</th>\n",
              "      <th>TxsCN_T12</th>\n",
              "      <th>TxsCOL_T12</th>\n",
              "      <th>TxsDebAtm_T12</th>\n",
              "      <th>TxsDebCom_T12</th>\n",
              "      <th>TxsPAT_T12</th>\n",
              "      <th>UsoL1_T12</th>\n",
              "      <th>UsoL2_T12</th>\n",
              "      <th>UsoLI_T12</th>\n",
              "      <th>target</th>\n",
              "    </tr>\n",
              "  </thead>\n",
              "  <tbody>\n",
              "    <tr>\n",
              "      <th>0</th>\n",
              "      <td>-1.732017</td>\n",
              "      <td>0.640419</td>\n",
              "      <td>-0.352226</td>\n",
              "      <td>-1.07514</td>\n",
              "      <td>-0.752290</td>\n",
              "      <td>0.323032</td>\n",
              "      <td>1.703963</td>\n",
              "      <td>2.553917</td>\n",
              "      <td>0.0</td>\n",
              "      <td>-0.03001</td>\n",
              "      <td>...</td>\n",
              "      <td>-0.124145</td>\n",
              "      <td>0.233552</td>\n",
              "      <td>-0.054182</td>\n",
              "      <td>0.063565</td>\n",
              "      <td>3.149059</td>\n",
              "      <td>-0.313228</td>\n",
              "      <td>2.025581</td>\n",
              "      <td>-0.223233</td>\n",
              "      <td>-0.095003</td>\n",
              "      <td>-0.314442</td>\n",
              "    </tr>\n",
              "    <tr>\n",
              "      <th>1</th>\n",
              "      <td>-1.731949</td>\n",
              "      <td>0.640419</td>\n",
              "      <td>-1.216270</td>\n",
              "      <td>0.93013</td>\n",
              "      <td>-0.752290</td>\n",
              "      <td>0.548555</td>\n",
              "      <td>-0.586867</td>\n",
              "      <td>0.843902</td>\n",
              "      <td>0.0</td>\n",
              "      <td>-0.03001</td>\n",
              "      <td>...</td>\n",
              "      <td>-0.124145</td>\n",
              "      <td>-0.351834</td>\n",
              "      <td>-0.054182</td>\n",
              "      <td>-0.726031</td>\n",
              "      <td>-0.509695</td>\n",
              "      <td>-0.313228</td>\n",
              "      <td>0.313314</td>\n",
              "      <td>0.355583</td>\n",
              "      <td>-0.095003</td>\n",
              "      <td>-0.314442</td>\n",
              "    </tr>\n",
              "    <tr>\n",
              "      <th>2</th>\n",
              "      <td>-1.731881</td>\n",
              "      <td>0.640419</td>\n",
              "      <td>0.743519</td>\n",
              "      <td>0.93013</td>\n",
              "      <td>-0.410717</td>\n",
              "      <td>0.473381</td>\n",
              "      <td>1.703963</td>\n",
              "      <td>-0.417584</td>\n",
              "      <td>0.0</td>\n",
              "      <td>-0.03001</td>\n",
              "      <td>...</td>\n",
              "      <td>-0.124145</td>\n",
              "      <td>0.233552</td>\n",
              "      <td>-0.054182</td>\n",
              "      <td>1.379559</td>\n",
              "      <td>0.100097</td>\n",
              "      <td>-0.313228</td>\n",
              "      <td>-0.215816</td>\n",
              "      <td>-0.281149</td>\n",
              "      <td>-0.095003</td>\n",
              "      <td>-0.314442</td>\n",
              "    </tr>\n",
              "    <tr>\n",
              "      <th>3</th>\n",
              "      <td>-1.731814</td>\n",
              "      <td>0.640419</td>\n",
              "      <td>-1.144395</td>\n",
              "      <td>0.93013</td>\n",
              "      <td>-1.059706</td>\n",
              "      <td>0.548555</td>\n",
              "      <td>1.703963</td>\n",
              "      <td>2.666049</td>\n",
              "      <td>0.0</td>\n",
              "      <td>-0.03001</td>\n",
              "      <td>...</td>\n",
              "      <td>-0.124145</td>\n",
              "      <td>0.233552</td>\n",
              "      <td>-0.054182</td>\n",
              "      <td>-0.726031</td>\n",
              "      <td>-0.509695</td>\n",
              "      <td>-0.313228</td>\n",
              "      <td>0.713979</td>\n",
              "      <td>-0.248354</td>\n",
              "      <td>-0.095003</td>\n",
              "      <td>-0.314442</td>\n",
              "    </tr>\n",
              "    <tr>\n",
              "      <th>4</th>\n",
              "      <td>-1.731746</td>\n",
              "      <td>0.640419</td>\n",
              "      <td>0.434490</td>\n",
              "      <td>0.93013</td>\n",
              "      <td>-0.410717</td>\n",
              "      <td>0.548555</td>\n",
              "      <td>1.703963</td>\n",
              "      <td>2.161455</td>\n",
              "      <td>0.0</td>\n",
              "      <td>-0.03001</td>\n",
              "      <td>...</td>\n",
              "      <td>-0.124145</td>\n",
              "      <td>1.111631</td>\n",
              "      <td>-0.054182</td>\n",
              "      <td>-0.726031</td>\n",
              "      <td>-0.509695</td>\n",
              "      <td>-0.313228</td>\n",
              "      <td>-0.310413</td>\n",
              "      <td>0.242789</td>\n",
              "      <td>-0.095003</td>\n",
              "      <td>-0.314442</td>\n",
              "    </tr>\n",
              "  </tbody>\n",
              "</table>\n",
              "<p>5 rows × 62 columns</p>\n",
              "</div>\n",
              "      <button class=\"colab-df-convert\" onclick=\"convertToInteractive('df-a56b2063-2b97-4bbb-9453-d799cfafc44f')\"\n",
              "              title=\"Convert this dataframe to an interactive table.\"\n",
              "              style=\"display:none;\">\n",
              "        \n",
              "  <svg xmlns=\"http://www.w3.org/2000/svg\" height=\"24px\"viewBox=\"0 0 24 24\"\n",
              "       width=\"24px\">\n",
              "    <path d=\"M0 0h24v24H0V0z\" fill=\"none\"/>\n",
              "    <path d=\"M18.56 5.44l.94 2.06.94-2.06 2.06-.94-2.06-.94-.94-2.06-.94 2.06-2.06.94zm-11 1L8.5 8.5l.94-2.06 2.06-.94-2.06-.94L8.5 2.5l-.94 2.06-2.06.94zm10 10l.94 2.06.94-2.06 2.06-.94-2.06-.94-.94-2.06-.94 2.06-2.06.94z\"/><path d=\"M17.41 7.96l-1.37-1.37c-.4-.4-.92-.59-1.43-.59-.52 0-1.04.2-1.43.59L10.3 9.45l-7.72 7.72c-.78.78-.78 2.05 0 2.83L4 21.41c.39.39.9.59 1.41.59.51 0 1.02-.2 1.41-.59l7.78-7.78 2.81-2.81c.8-.78.8-2.07 0-2.86zM5.41 20L4 18.59l7.72-7.72 1.47 1.35L5.41 20z\"/>\n",
              "  </svg>\n",
              "      </button>\n",
              "      \n",
              "  <style>\n",
              "    .colab-df-container {\n",
              "      display:flex;\n",
              "      flex-wrap:wrap;\n",
              "      gap: 12px;\n",
              "    }\n",
              "\n",
              "    .colab-df-convert {\n",
              "      background-color: #E8F0FE;\n",
              "      border: none;\n",
              "      border-radius: 50%;\n",
              "      cursor: pointer;\n",
              "      display: none;\n",
              "      fill: #1967D2;\n",
              "      height: 32px;\n",
              "      padding: 0 0 0 0;\n",
              "      width: 32px;\n",
              "    }\n",
              "\n",
              "    .colab-df-convert:hover {\n",
              "      background-color: #E2EBFA;\n",
              "      box-shadow: 0px 1px 2px rgba(60, 64, 67, 0.3), 0px 1px 3px 1px rgba(60, 64, 67, 0.15);\n",
              "      fill: #174EA6;\n",
              "    }\n",
              "\n",
              "    [theme=dark] .colab-df-convert {\n",
              "      background-color: #3B4455;\n",
              "      fill: #D2E3FC;\n",
              "    }\n",
              "\n",
              "    [theme=dark] .colab-df-convert:hover {\n",
              "      background-color: #434B5C;\n",
              "      box-shadow: 0px 1px 3px 1px rgba(0, 0, 0, 0.15);\n",
              "      filter: drop-shadow(0px 1px 2px rgba(0, 0, 0, 0.3));\n",
              "      fill: #FFFFFF;\n",
              "    }\n",
              "  </style>\n",
              "\n",
              "      <script>\n",
              "        const buttonEl =\n",
              "          document.querySelector('#df-a56b2063-2b97-4bbb-9453-d799cfafc44f button.colab-df-convert');\n",
              "        buttonEl.style.display =\n",
              "          google.colab.kernel.accessAllowed ? 'block' : 'none';\n",
              "\n",
              "        async function convertToInteractive(key) {\n",
              "          const element = document.querySelector('#df-a56b2063-2b97-4bbb-9453-d799cfafc44f');\n",
              "          const dataTable =\n",
              "            await google.colab.kernel.invokeFunction('convertToInteractive',\n",
              "                                                     [key], {});\n",
              "          if (!dataTable) return;\n",
              "\n",
              "          const docLinkHtml = 'Like what you see? Visit the ' +\n",
              "            '<a target=\"_blank\" href=https://colab.research.google.com/notebooks/data_table.ipynb>data table notebook</a>'\n",
              "            + ' to learn more about interactive tables.';\n",
              "          element.innerHTML = '';\n",
              "          dataTable['output_type'] = 'display_data';\n",
              "          await google.colab.output.renderOutput(dataTable, element);\n",
              "          const docLink = document.createElement('div');\n",
              "          docLink.innerHTML = docLinkHtml;\n",
              "          element.appendChild(docLink);\n",
              "        }\n",
              "      </script>\n",
              "    </div>\n",
              "  </div>\n",
              "  "
            ],
            "text/plain": [
              "         Id    Region     Renta     Sexo  Subsegmento      Edad  Adicional  \\\n",
              "0 -1.732017  0.640419 -0.352226 -1.07514    -0.752290  0.323032   1.703963   \n",
              "1 -1.731949  0.640419 -1.216270  0.93013    -0.752290  0.548555  -0.586867   \n",
              "2 -1.731881  0.640419  0.743519  0.93013    -0.410717  0.473381   1.703963   \n",
              "3 -1.731814  0.640419 -1.144395  0.93013    -1.059706  0.548555   1.703963   \n",
              "4 -1.731746  0.640419  0.434490  0.93013    -0.410717  0.548555   1.703963   \n",
              "\n",
              "   Antiguedad  CambioPin  Consumo  ...  TxsCI_T12  TxsCN_T12  TxsCOL_T12  \\\n",
              "0    2.553917        0.0 -0.03001  ...  -0.124145   0.233552   -0.054182   \n",
              "1    0.843902        0.0 -0.03001  ...  -0.124145  -0.351834   -0.054182   \n",
              "2   -0.417584        0.0 -0.03001  ...  -0.124145   0.233552   -0.054182   \n",
              "3    2.666049        0.0 -0.03001  ...  -0.124145   0.233552   -0.054182   \n",
              "4    2.161455        0.0 -0.03001  ...  -0.124145   1.111631   -0.054182   \n",
              "\n",
              "   TxsDebAtm_T12  TxsDebCom_T12  TxsPAT_T12  UsoL1_T12  UsoL2_T12  UsoLI_T12  \\\n",
              "0       0.063565       3.149059   -0.313228   2.025581  -0.223233  -0.095003   \n",
              "1      -0.726031      -0.509695   -0.313228   0.313314   0.355583  -0.095003   \n",
              "2       1.379559       0.100097   -0.313228  -0.215816  -0.281149  -0.095003   \n",
              "3      -0.726031      -0.509695   -0.313228   0.713979  -0.248354  -0.095003   \n",
              "4      -0.726031      -0.509695   -0.313228  -0.310413   0.242789  -0.095003   \n",
              "\n",
              "     target  \n",
              "0 -0.314442  \n",
              "1 -0.314442  \n",
              "2 -0.314442  \n",
              "3 -0.314442  \n",
              "4 -0.314442  \n",
              "\n",
              "[5 rows x 62 columns]"
            ]
          },
          "execution_count": 33,
          "metadata": {},
          "output_type": "execute_result"
        }
      ],
      "source": [
        "#Recuperamos nombres de las columnas\n",
        "df_scaler.columns = df1.columns\n",
        "df_scaler\n",
        "#Comprobamos resultado\n",
        "df_scaler.head()"
      ]
    },
    {
      "cell_type": "markdown",
      "metadata": {
        "id": "Afo4ljfz7NvF"
      },
      "source": [
        "#Primer Modelo KNeighborsClassifier\n",
        "\n"
      ]
    },
    {
      "cell_type": "code",
      "execution_count": null,
      "metadata": {
        "id": "nk1JmbNj_bJ1"
      },
      "outputs": [],
      "source": [
        "# Extraemos la variable que vamos a estimar.\n",
        "Y= df1['target']\n",
        "# Eliminamos variables que no entregan información importante.\n",
        "X = df1.drop(columns=['Id','Subsegmento','target','CambioPin'])"
      ]
    },
    {
      "cell_type": "code",
      "execution_count": null,
      "metadata": {
        "colab": {
          "base_uri": "https://localhost:8080/",
          "height": 295
        },
        "id": "ccM4NFGy8tj_",
        "outputId": "42404176-0a26-4969-cf77-48de5b4e1aa6"
      },
      "outputs": [
        {
          "data": {
            "image/png": "[encoded data removed]",
            "text/plain": [
              "<Figure size 432x288 with 2 Axes>"
            ]
          },
          "metadata": {
            "needs_background": "light"
          },
          "output_type": "display_data"
        }
      ],
      "source": [
        "# Dividimos los datos entre training y testing set donde el testing set obtendrá el 30% de los datos mientras que el de prueba obtendrá el 70.\n",
        "# A la hora de ejecutar obtendremos el mismo conjunto de datos siempre, pero para obtener diferentes conjuntos de entrenamiento y de prueba se debe usar random_state=None\n",
        "X_train, X_test, Y_train, Y_test = train_test_split(X, Y, test_size=0.3, random_state=0)\n",
        "# Creamos el objeto con el modelo a seguir\n",
        "model = KNeighborsClassifier()\n",
        "# Entrenamos el modelo de entrenamiento\n",
        "model.fit(X_train, Y_train)\n",
        "# Realizamos predicciones de los datos de prueba\n",
        "y_pred = model.predict(X_test)\n",
        "#Mostramos la matriz de confusión del set de prueba\n",
        "cnf_matrix = metrics.confusion_matrix(Y_test, y_pred)\n",
        "p = sb.heatmap(pd.DataFrame(cnf_matrix), annot=True, cmap=\"YlGnBu\" ,fmt='g')\n",
        "plt.title('Confusion matrix', y=1.1)\n",
        "plt.ylabel('Actual label')\n",
        "plt.xlabel('Predicted label')\n",
        "plt.show()"
      ]
    },
    {
      "cell_type": "markdown",
      "metadata": {
        "id": "u_MBff73wf_m"
      },
      "source": [
        "* Verdaderos Positivos: 13.846\n",
        "* Falsos Positivos: 131\n",
        "* Verdaderos Negativos: 1330\n",
        "* Falsos Negativos: 31"
      ]
    },
    {
      "cell_type": "code",
      "execution_count": null,
      "metadata": {
        "colab": {
          "base_uri": "https://localhost:8080/"
        },
        "id": "BG4KY8fXjKD1",
        "outputId": "8178e899-d2dd-435e-aac8-c943b7fbd4d9"
      },
      "outputs": [
        {
          "name": "stdout",
          "output_type": "stream",
          "text": [
            "              precision    recall  f1-score   support\n",
            "\n",
            "         0.0       0.91      0.99      0.95     13977\n",
            "         1.0       0.19      0.02      0.04      1361\n",
            "\n",
            "    accuracy                           0.90     15338\n",
            "   macro avg       0.55      0.51      0.50     15338\n",
            "weighted avg       0.85      0.90      0.87     15338\n",
            "\n"
          ]
        }
      ],
      "source": [
        "#Visualizamos metricas del set de prueba\n",
        "print(classification_report(Y_test, y_pred))"
      ]
    },
    {
      "cell_type": "code",
      "execution_count": null,
      "metadata": {
        "colab": {
          "base_uri": "https://localhost:8080/",
          "height": 295
        },
        "id": "i49isWxZ0bDu",
        "outputId": "9ce2350b-c0a8-4bf6-b071-0ed35ad28292"
      },
      "outputs": [
        {
          "data": {
            "image/png": "[encoded data removed]",
            "text/plain": [
              "<Figure size 432x288 with 2 Axes>"
            ]
          },
          "metadata": {
            "needs_background": "light"
          },
          "output_type": "display_data"
        }
      ],
      "source": [
        "# Realizamos predicciones de los datos de entrenamiento\n",
        "Y_train_predicted = model.predict(X_train)\n",
        "#Mostramos la matriz de confusión del set de entrenamiento\n",
        "cnf_matrix = metrics.confusion_matrix(Y_train, Y_train_predicted)\n",
        "p = sb.heatmap(pd.DataFrame(cnf_matrix), annot=True, cmap=\"YlGnBu\" ,fmt='g')\n",
        "plt.title('Confusion matrix', y=1.1)\n",
        "plt.ylabel('Actual label')\n",
        "plt.xlabel('Predicted label')\n",
        "plt.show()"
      ]
    },
    {
      "cell_type": "markdown",
      "metadata": {
        "id": "r2A9VczC2ynX"
      },
      "source": [
        "* Verdaderos Positivos: 32386\n",
        "* Falsos Positivos: 161\n",
        "* Verdaderos Negativos: 3008\n",
        "* Falsos Negativos: 231"
      ]
    },
    {
      "cell_type": "code",
      "execution_count": null,
      "metadata": {
        "colab": {
          "base_uri": "https://localhost:8080/"
        },
        "id": "kUb8zDeC0oTx",
        "outputId": "e37ba35d-64d0-4316-d5eb-12261c070288"
      },
      "outputs": [
        {
          "name": "stdout",
          "output_type": "stream",
          "text": [
            "              precision    recall  f1-score   support\n",
            "\n",
            "         0.0       0.92      1.00      0.95     32547\n",
            "         1.0       0.59      0.07      0.13      3239\n",
            "\n",
            "    accuracy                           0.91     35786\n",
            "   macro avg       0.75      0.53      0.54     35786\n",
            "weighted avg       0.89      0.91      0.88     35786\n",
            "\n"
          ]
        }
      ],
      "source": [
        "#Visualizamos metricas del set de entrenamiento\n",
        "print(classification_report(Y_train, Y_train_predicted))"
      ]
    },
    {
      "cell_type": "markdown",
      "metadata": {
        "id": "zbi07vNN50sj"
      },
      "source": [
        "Recordemos que target es la variable que queremos predecir, donde 0 paga el monto total y 1 paga el mínimo.\n",
        "* Según los reportes del modelo, las metricas del set de entrenamiento mejoraron un poco en comparación al set de prueba. \n",
        "* Se puede apreciar que el modelo predijo mejor el target 0 con un porcentaje de predicciones positivas correctas casi perfecto, mientras que en el target 1 pasó todo lo contrario.\n",
        "* Gracias al F1-Score, podemos concluir que el modelo hace un excelente trabajo prediciendo los clientes que pagarán el monto total, pero por otra parte es muy malo prediciendo los clientes que pagarán el minimo.\n",
        "\n"
      ]
    },
    {
      "cell_type": "markdown",
      "metadata": {
        "id": "9fD90fE-DCIP"
      },
      "source": [
        "Área bajo la curva (ROC AUC)"
      ]
    },
    {
      "cell_type": "code",
      "execution_count": null,
      "metadata": {
        "colab": {
          "base_uri": "https://localhost:8080/"
        },
        "id": "AFWaYS7hC6O8",
        "outputId": "1ae507db-4242-4d7f-8b4f-e3e038c98f01"
      },
      "outputs": [
        {
          "data": {
            "text/plain": [
              "0.5067024144893861"
            ]
          },
          "execution_count": 39,
          "metadata": {},
          "output_type": "execute_result"
        }
      ],
      "source": [
        "# AUC para el testing set\n",
        "roc_auc_score(Y_test, y_pred)"
      ]
    },
    {
      "cell_type": "code",
      "execution_count": null,
      "metadata": {
        "colab": {
          "base_uri": "https://localhost:8080/"
        },
        "id": "LDTgtsvFC-uT",
        "outputId": "b3a1de08-32ac-4ba6-a9c8-67c5473cc238"
      },
      "outputs": [
        {
          "data": {
            "text/plain": [
              "0.5331858078221465"
            ]
          },
          "execution_count": 40,
          "metadata": {},
          "output_type": "execute_result"
        }
      ],
      "source": [
        "# AUC para el training set\n",
        "roc_auc_score(Y_train, Y_train_predicted)"
      ]
    },
    {
      "cell_type": "markdown",
      "metadata": {
        "id": "FkfAmzofDsYD"
      },
      "source": [
        "Según el área bajo la curva, el rendimiento del modelo es malo y por azar el 50% aprox de las predicciones serían acertadas.\n",
        "* [0.5]: Es como lanzar una moneda.\n",
        "\n",
        "* [0.5, 0.6): Test malo.\n",
        "\n",
        "* [0.6, 0.75): Test regular.\n",
        "\n",
        "* [0.75, 0.9): Test bueno.\n",
        "\n",
        "* [0.9, 0.97): Test muy bueno.\n",
        "\n",
        "* [0.97, 1): Test excelente."
      ]
    },
    {
      "cell_type": "markdown",
      "metadata": {
        "id": "x0SfyzWzI1sK"
      },
      "source": [
        "#Segundo Modelo DecisionTreeClassifier"
      ]
    },
    {
      "cell_type": "code",
      "execution_count": null,
      "metadata": {
        "id": "f24Rhh13XvlN"
      },
      "outputs": [],
      "source": [
        "# Separación en datos\n",
        "x_train,x_test,y_train,y_test = train_test_split(X,Y,test_size=1/3,random_state=42, stratify=Y)"
      ]
    },
    {
      "cell_type": "code",
      "execution_count": null,
      "metadata": {
        "id": "Dqsu3rrgQOsB"
      },
      "outputs": [],
      "source": [
        "#Creación del modelo - Arbol de decisión\n",
        "modelo = DecisionTreeClassifier(random_state=29)\n",
        "# Entrenamiento del modelo\n",
        "modelo.fit(x_train, y_train)\n",
        "# Predicciones con testing set\n",
        "y_pred = modelo.predict(x_test)\n",
        "# Realizamos predicciones de los datos de entrenamiento\n",
        "Y_pred = model.predict(x_train)"
      ]
    },
    {
      "cell_type": "code",
      "execution_count": null,
      "metadata": {
        "colab": {
          "base_uri": "https://localhost:8080/"
        },
        "id": "vlMpHapcVX7h",
        "outputId": "334204c1-072a-4561-9ce4-1bb35a6497e8"
      },
      "outputs": [
        {
          "data": {
            "image/png": "[encoded data removed]",
            "text/plain": [
              "<Figure size 432x288 with 2 Axes>"
            ]
          },
          "metadata": {
            "needs_background": "light"
          },
          "output_type": "display_data"
        },
        {
          "name": "stdout",
          "output_type": "stream",
          "text": [
            "              precision    recall  f1-score   support\n",
            "\n",
            "         0.0       0.92      0.90      0.91     15509\n",
            "         1.0       0.14      0.17      0.16      1533\n",
            "\n",
            "    accuracy                           0.84     17042\n",
            "   macro avg       0.53      0.54      0.53     17042\n",
            "weighted avg       0.85      0.84      0.84     17042\n",
            "\n"
          ]
        }
      ],
      "source": [
        "#Matriz de Confusión de testing set\n",
        "from sklearn import metrics\n",
        "cnf_matrix = metrics.confusion_matrix(y_test, y_pred)\n",
        "p = sb.heatmap(pd.DataFrame(cnf_matrix), annot=True, cmap=\"YlGnBu\" ,fmt='g')\n",
        "plt.title('Confusion matrix test', y=1.1)\n",
        "plt.ylabel('Actual label')\n",
        "plt.xlabel('Predicted label')\n",
        "plt.show()\n",
        "#Visualizamos metricas del set de prueba\n",
        "print(classification_report(y_test, y_pred))"
      ]
    },
    {
      "cell_type": "code",
      "execution_count": null,
      "metadata": {
        "colab": {
          "base_uri": "https://localhost:8080/"
        },
        "id": "KLzzD5mYRB6j",
        "outputId": "0d85f923-3af5-4512-9c9e-f7cc51215418"
      },
      "outputs": [
        {
          "data": {
            "image/png": "[encoded data removed]",
            "text/plain": [
              "<Figure size 432x288 with 2 Axes>"
            ]
          },
          "metadata": {
            "needs_background": "light"
          },
          "output_type": "display_data"
        },
        {
          "name": "stdout",
          "output_type": "stream",
          "text": [
            "              precision    recall  f1-score   support\n",
            "\n",
            "         0.0       0.91      0.99      0.95     31015\n",
            "         1.0       0.45      0.05      0.10      3067\n",
            "\n",
            "    accuracy                           0.91     34082\n",
            "   macro avg       0.68      0.52      0.52     34082\n",
            "weighted avg       0.87      0.91      0.88     34082\n",
            "\n"
          ]
        }
      ],
      "source": [
        "#Matriz de Confusión de training set\n",
        "from sklearn import metrics\n",
        "cnf_matrix = metrics.confusion_matrix(y_train, Y_pred)\n",
        "p = sb.heatmap(pd.DataFrame(cnf_matrix), annot=True, cmap=\"YlGnBu\" ,fmt='g')\n",
        "plt.title('Confusion matrix train', y=1.1)\n",
        "plt.ylabel('Actual label')\n",
        "plt.xlabel('Predicted label')\n",
        "plt.show()\n",
        "#Visualizamos metricas del set de entrenamiento\n",
        "print(classification_report(y_train, Y_pred))"
      ]
    },
    {
      "cell_type": "code",
      "execution_count": null,
      "metadata": {
        "colab": {
          "base_uri": "https://localhost:8080/"
        },
        "id": "Pxa_ANTzhEDK",
        "outputId": "2a1c9481-fba8-432d-ce2b-b7841eb0fb22"
      },
      "outputs": [
        {
          "data": {
            "text/plain": [
              "0.5351164488081894"
            ]
          },
          "execution_count": 45,
          "metadata": {},
          "output_type": "execute_result"
        }
      ],
      "source": [
        "# AUC para el testing set\n",
        "roc_auc_score(y_test, y_pred)"
      ]
    },
    {
      "cell_type": "code",
      "execution_count": null,
      "metadata": {
        "colab": {
          "base_uri": "https://localhost:8080/"
        },
        "id": "qTdVETKshE5S",
        "outputId": "80bab09d-af17-45e6-92f1-083cc30b57c1"
      },
      "outputs": [
        {
          "data": {
            "text/plain": [
              "0.5241318385599781"
            ]
          },
          "execution_count": 46,
          "metadata": {},
          "output_type": "execute_result"
        }
      ],
      "source": [
        "# AUC para el training set\n",
        "roc_auc_score(y_train, Y_pred)"
      ]
    },
    {
      "cell_type": "markdown",
      "metadata": {
        "id": "iya_h6tGiAdC"
      },
      "source": [
        "Según el área bajo la curva, el rendimiento del modelo es malo y por azar el 50% aprox de las predicciones serían acertadas.\n",
        "* [0.5]: Es como lanzar una moneda.\n",
        "\n",
        "* [0.5, 0.6): Test malo.\n",
        "\n",
        "* [0.6, 0.75): Test regular.\n",
        "\n",
        "* [0.75, 0.9): Test bueno.\n",
        "\n",
        "* [0.9, 0.97): Test muy bueno.\n",
        "\n",
        "* [0.97, 1): Test excelente."
      ]
    },
    {
      "cell_type": "markdown",
      "metadata": {
        "id": "MWAKugzodMtg"
      },
      "source": [
        "#Tercer Modelo RandomForestClassifier"
      ]
    },
    {
      "cell_type": "code",
      "execution_count": null,
      "metadata": {
        "colab": {
          "base_uri": "https://localhost:8080/"
        },
        "id": "RuHzyiuPd8AJ",
        "outputId": "81d53b72-fe6d-45d6-bbed-cd493ca02c2d"
      },
      "outputs": [
        {
          "name": "stderr",
          "output_type": "stream",
          "text": [
            "[Parallel(n_jobs=1)]: Using backend SequentialBackend with 1 concurrent workers.\n",
            "[Parallel(n_jobs=1)]: Done 300 out of 300 | elapsed:   31.4s finished\n",
            "[Parallel(n_jobs=1)]: Using backend SequentialBackend with 1 concurrent workers.\n",
            "[Parallel(n_jobs=1)]: Done 300 out of 300 | elapsed:    1.3s finished\n",
            "[Parallel(n_jobs=1)]: Using backend SequentialBackend with 1 concurrent workers.\n",
            "[Parallel(n_jobs=1)]: Done 300 out of 300 | elapsed:    6.3s finished\n"
          ]
        }
      ],
      "source": [
        "# Modelo con Bosque de Arboles\n",
        "modelo3 = RandomForestClassifier(n_estimators=300, class_weight=\"balanced\",\n",
        "                               max_features = 'sqrt', verbose=1, max_depth=15,\n",
        "                               oob_score=True, random_state=50)\n",
        "# Entrenamiento de datos\n",
        "modelo3.fit(x_train, y_train)\n",
        "# Predicción con testing set\n",
        "y_pred_rf = modelo3.predict(x_test)\n",
        "# Predicción con training set\n",
        "Y_pred_rf = modelo3.predict(x_train)"
      ]
    },
    {
      "cell_type": "code",
      "execution_count": null,
      "metadata": {
        "colab": {
          "base_uri": "https://localhost:8080/"
        },
        "id": "sqJv2riFe0YE",
        "outputId": "dbdd2ba3-592c-4f2d-964a-0fd7db3598f0"
      },
      "outputs": [
        {
          "data": {
            "image/png": "[encoded data removed]",
            "text/plain": [
              "<Figure size 432x288 with 2 Axes>"
            ]
          },
          "metadata": {
            "needs_background": "light"
          },
          "output_type": "display_data"
        },
        {
          "name": "stdout",
          "output_type": "stream",
          "text": [
            "              precision    recall  f1-score   support\n",
            "\n",
            "         0.0       0.92      0.95      0.93     15509\n",
            "         1.0       0.24      0.16      0.19      1533\n",
            "\n",
            "    accuracy                           0.88     17042\n",
            "   macro avg       0.58      0.56      0.56     17042\n",
            "weighted avg       0.86      0.88      0.87     17042\n",
            "\n"
          ]
        }
      ],
      "source": [
        "#Matriz de Confusión de testing set\n",
        "from sklearn import metrics\n",
        "cnf_matrix = metrics.confusion_matrix(y_test, y_pred_rf)\n",
        "p = sb.heatmap(pd.DataFrame(cnf_matrix), annot=True, cmap=\"YlGnBu\" ,fmt='g')\n",
        "plt.title('Confusion matrix test', y=1.1)\n",
        "plt.ylabel('Actual label')\n",
        "plt.xlabel('Predicted label')\n",
        "plt.show()\n",
        "#Reporte de métricas testing set\n",
        "print(classification_report(y_test,y_pred_rf))"
      ]
    },
    {
      "cell_type": "code",
      "execution_count": null,
      "metadata": {
        "colab": {
          "base_uri": "https://localhost:8080/"
        },
        "id": "YjY005NVfKI0",
        "outputId": "1029a5a7-83ce-4b3c-e58d-02ba7934ec3a"
      },
      "outputs": [
        {
          "data": {
            "image/png": "[encoded data removed]",
            "text/plain": [
              "<Figure size 432x288 with 2 Axes>"
            ]
          },
          "metadata": {
            "needs_background": "light"
          },
          "output_type": "display_data"
        },
        {
          "name": "stdout",
          "output_type": "stream",
          "text": [
            "              precision    recall  f1-score   support\n",
            "\n",
            "         0.0       0.99      0.97      0.98     31015\n",
            "         1.0       0.72      0.92      0.81      3067\n",
            "\n",
            "    accuracy                           0.96     34082\n",
            "   macro avg       0.86      0.94      0.89     34082\n",
            "weighted avg       0.97      0.96      0.96     34082\n",
            "\n"
          ]
        }
      ],
      "source": [
        "#Matriz de Confusión de training set\n",
        "from sklearn import metrics\n",
        "cnf_matrix = metrics.confusion_matrix(y_train, Y_pred_rf)\n",
        "p = sb.heatmap(pd.DataFrame(cnf_matrix), annot=True, cmap=\"YlGnBu\" ,fmt='g')\n",
        "plt.title('Confusion matrix test', y=1.1)\n",
        "plt.ylabel('Actual label')\n",
        "plt.xlabel('Predicted label')\n",
        "plt.show()\n",
        "#Reporte de métricas de training set\n",
        "print(classification_report(y_train,Y_pred_rf))"
      ]
    },
    {
      "cell_type": "code",
      "execution_count": null,
      "metadata": {
        "colab": {
          "base_uri": "https://localhost:8080/"
        },
        "id": "ZZXR-clPhfIk",
        "outputId": "0e325191-d6d7-4840-d051-d29d11b90c40"
      },
      "outputs": [
        {
          "data": {
            "text/plain": [
              "0.5558409428071498"
            ]
          },
          "execution_count": 50,
          "metadata": {},
          "output_type": "execute_result"
        }
      ],
      "source": [
        "# AUC para el testing set\n",
        "roc_auc_score(y_test, y_pred_rf)"
      ]
    },
    {
      "cell_type": "code",
      "execution_count": null,
      "metadata": {
        "colab": {
          "base_uri": "https://localhost:8080/"
        },
        "id": "JxA97mEzhf7a",
        "outputId": "60503898-e659-44b6-810a-3ee04256c387"
      },
      "outputs": [
        {
          "data": {
            "text/plain": [
              "0.9411948350454236"
            ]
          },
          "execution_count": 51,
          "metadata": {},
          "output_type": "execute_result"
        }
      ],
      "source": [
        "# AUC para el training set\n",
        "roc_auc_score(y_train, Y_pred_rf)"
      ]
    },
    {
      "cell_type": "markdown",
      "metadata": {
        "id": "MAA6eFDEiHJE"
      },
      "source": [
        "Según el área bajo la curva, el rendimiento del modelo es muy bueno y mas del 98% de las predicciones serían acertadas.\n",
        "* [0.5]: Es como lanzar una moneda.\n",
        "\n",
        "* [0.5, 0.6): Test malo.\n",
        "\n",
        "* [0.6, 0.75): Test regular.\n",
        "\n",
        "* [0.75, 0.9): Test bueno.\n",
        "\n",
        "* [0.9, 0.97): Test muy bueno.\n",
        "\n",
        "* [0.97, 1): Test excelente."
      ]
    },
    {
      "cell_type": "markdown",
      "metadata": {
        "id": "1RgHcXQxWNla"
      },
      "source": [
        "#Cuarto Modelo LogisticRegression"
      ]
    },
    {
      "cell_type": "code",
      "execution_count": null,
      "metadata": {
        "colab": {
          "base_uri": "https://localhost:8080/"
        },
        "id": "FMp0KcwuWcUY",
        "outputId": "accbb075-efd4-4182-8ab6-edfe439d0769"
      },
      "outputs": [
        {
          "name": "stderr",
          "output_type": "stream",
          "text": [
            "/usr/local/lib/python3.7/dist-packages/sklearn/utils/optimize.py:212: ConvergenceWarning: newton-cg failed to converge. Increase the number of iterations.\n",
            "  ConvergenceWarning,\n"
          ]
        }
      ],
      "source": [
        "#dividimos en sets de entrenamiento y test\n",
        "X_train, X_test, y_train, y_test = train_test_split(X, Y, train_size=0.7)\n",
        " \n",
        "#creamos una función que crea el modelo que usaremos cada vez\n",
        "def run_model(X_train, X_test, y_train, y_test):\n",
        "    clf_base = LogisticRegression(C=1.0,penalty='l2',random_state=1,solver=\"newton-cg\")\n",
        "    clf_base.fit(X_train, y_train)\n",
        "    return clf_base\n",
        " \n",
        "#ejecutamos el modelo\n",
        "model = run_model(X_train, X_test, y_train, y_test)"
      ]
    },
    {
      "cell_type": "code",
      "execution_count": null,
      "metadata": {
        "colab": {
          "base_uri": "https://localhost:8080/"
        },
        "id": "dX3nONF8WRlk",
        "outputId": "8f6bcfe5-359d-439c-872d-b83f03184c27"
      },
      "outputs": [
        {
          "data": {
            "image/png": "[encoded data removed]",
            "text/plain": [
              "<Figure size 864x864 with 2 Axes>"
            ]
          },
          "metadata": {
            "needs_background": "light"
          },
          "output_type": "display_data"
        },
        {
          "name": "stdout",
          "output_type": "stream",
          "text": [
            "              precision    recall  f1-score   support\n",
            "\n",
            "         0.0       0.91      1.00      0.95     13930\n",
            "         1.0       0.10      0.00      0.00      1408\n",
            "\n",
            "    accuracy                           0.91     15338\n",
            "   macro avg       0.50      0.50      0.48     15338\n",
            "weighted avg       0.83      0.91      0.86     15338\n",
            "\n"
          ]
        }
      ],
      "source": [
        "LABELS= ['0','1']\n",
        "#definimos funcion para mostrar los resultados de test\n",
        "def mostrar_resultados_test(y_test, pred_y):\n",
        "    conf_matrix = confusion_matrix(y_test, pred_y)\n",
        "    plt.figure(figsize=(12, 12))\n",
        "    sb.heatmap(conf_matrix, xticklabels=LABELS, yticklabels=LABELS, annot=True, fmt=\"d\");\n",
        "    plt.title(\"Confusion matrix TEST\")\n",
        "    plt.ylabel('True class')\n",
        "    plt.xlabel('Predicted class')\n",
        "    plt.show()\n",
        "\n",
        "def mostrar_resultados_train(y_train, pred_Y):\n",
        "    conf_matrix = confusion_matrix(y_train, pred_Y)\n",
        "    plt.figure(figsize=(12, 12))\n",
        "    sb.heatmap(conf_matrix, xticklabels=LABELS, yticklabels=LABELS, annot=True, fmt=\"d\");\n",
        "    plt.title(\"Confusion matrix TRAIN\")\n",
        "    plt.ylabel('True class')\n",
        "    plt.xlabel('Predicted class')\n",
        "    plt.show()\n",
        " \n",
        "pred_y = model.predict(X_test)\n",
        "mostrar_resultados_test(y_test, pred_y)\n",
        "print (classification_report(y_test, pred_y))"
      ]
    },
    {
      "cell_type": "markdown",
      "metadata": {
        "id": "RuJx1E4FW66B"
      },
      "source": [
        "Estrategia de Penalización para compensar desbalance"
      ]
    },
    {
      "cell_type": "code",
      "execution_count": null,
      "metadata": {
        "colab": {
          "base_uri": "https://localhost:8080/"
        },
        "id": "o8qUsVxHWV7V",
        "outputId": "04736e90-87ba-41bb-ab1f-284cb957599a"
      },
      "outputs": [
        {
          "name": "stderr",
          "output_type": "stream",
          "text": [
            "/usr/local/lib/python3.7/dist-packages/scipy/optimize/linesearch.py:478: LineSearchWarning: The line search algorithm did not converge\n",
            "  warn('The line search algorithm did not converge', LineSearchWarning)\n",
            "/usr/local/lib/python3.7/dist-packages/scipy/optimize/linesearch.py:327: LineSearchWarning: The line search algorithm did not converge\n",
            "  warn('The line search algorithm did not converge', LineSearchWarning)\n",
            "/usr/local/lib/python3.7/dist-packages/scipy/optimize/linesearch.py:478: LineSearchWarning: The line search algorithm did not converge\n",
            "  warn('The line search algorithm did not converge', LineSearchWarning)\n",
            "/usr/local/lib/python3.7/dist-packages/scipy/optimize/linesearch.py:327: LineSearchWarning: The line search algorithm did not converge\n",
            "  warn('The line search algorithm did not converge', LineSearchWarning)\n",
            "/usr/local/lib/python3.7/dist-packages/sklearn/utils/optimize.py:212: ConvergenceWarning: newton-cg failed to converge. Increase the number of iterations.\n",
            "  ConvergenceWarning,\n"
          ]
        },
        {
          "data": {
            "image/png": "[encoded data removed]",
            "text/plain": [
              "<Figure size 864x864 with 2 Axes>"
            ]
          },
          "metadata": {
            "needs_background": "light"
          },
          "output_type": "display_data"
        },
        {
          "name": "stdout",
          "output_type": "stream",
          "text": [
            "              precision    recall  f1-score   support\n",
            "\n",
            "         0.0       0.95      0.65      0.77     32594\n",
            "         1.0       0.15      0.62      0.24      3192\n",
            "\n",
            "    accuracy                           0.65     35786\n",
            "   macro avg       0.55      0.64      0.51     35786\n",
            "weighted avg       0.88      0.65      0.72     35786\n",
            "\n"
          ]
        }
      ],
      "source": [
        "# Utilizaremos un parámetro adicional en el modelo de Regresión logística en donde indicamos weight = “balanced” y con esto el algoritmo se encargará de equilibrar\n",
        "# a la clase minoritaria durante el entrenamiento.\n",
        "def run_model_balanced(X_train, X_test, y_train, y_test):\n",
        "    clf = LogisticRegression(C=1.0,penalty='l2',random_state=1,solver=\"newton-cg\",class_weight=\"balanced\")\n",
        "    clf.fit(X_train, y_train)\n",
        "    return clf\n",
        " \n",
        "model = run_model_balanced(X_train, X_test, y_train, y_test)\n",
        "pred_Y = model.predict(X_train)\n",
        "mostrar_resultados_train(y_train, pred_Y)\n",
        "print (classification_report(y_train, pred_Y))"
      ]
    },
    {
      "cell_type": "markdown",
      "metadata": {
        "id": "VD1ipMTkcKYS"
      },
      "source": [
        "#Quinto Modelo Smote-Tomek"
      ]
    },
    {
      "cell_type": "code",
      "execution_count": null,
      "metadata": {
        "colab": {
          "base_uri": "https://localhost:8080/",
          "height": 956
        },
        "id": "jygJRj9XcQKM",
        "outputId": "22668119-a185-4379-e217-c8234943faa3"
      },
      "outputs": [
        {
          "name": "stdout",
          "output_type": "stream",
          "text": [
            "Distribution before resampling Counter({0.0: 32594, 1.0: 3192})\n",
            "Distribution after resampling Counter({0.0: 32205, 1.0: 15908})\n"
          ]
        },
        {
          "name": "stderr",
          "output_type": "stream",
          "text": [
            "/usr/local/lib/python3.7/dist-packages/sklearn/utils/optimize.py:212: ConvergenceWarning: newton-cg failed to converge. Increase the number of iterations.\n",
            "  ConvergenceWarning,\n"
          ]
        },
        {
          "data": {
            "image/png": "[encoded data removed]",
            "text/plain": [
              "<Figure size 864x864 with 2 Axes>"
            ]
          },
          "metadata": {
            "needs_background": "light"
          },
          "output_type": "display_data"
        },
        {
          "name": "stdout",
          "output_type": "stream",
          "text": [
            "              precision    recall  f1-score   support\n",
            "\n",
            "         0.0       0.92      0.95      0.93     13930\n",
            "         1.0       0.21      0.14      0.17      1408\n",
            "\n",
            "    accuracy                           0.87     15338\n",
            "   macro avg       0.56      0.54      0.55     15338\n",
            "weighted avg       0.85      0.87      0.86     15338\n",
            "\n"
          ]
        }
      ],
      "source": [
        "# En este caso usaremos SMOTE para oversampling: busca puntos vecinos cercanos y agrega puntos “en linea recta” entre ellos. \n",
        "# Y usaremos Tomek para undersampling que quita los de distinta clase que sean nearest neighbor y deja ver mejor el decisión boundary (la zona limítrofe de nuestras clases).\n",
        "os_us = SMOTETomek(sampling_strategy=0.5)\n",
        "X_train_res, y_train_res = os_us.fit_resample(X_train, y_train)\n",
        " \n",
        "print (\"Distribution before resampling {}\".format(Counter(y_train)))\n",
        "print (\"Distribution after resampling {}\".format(Counter(y_train_res)))\n",
        " \n",
        "model = run_model(X_train_res, X_test, y_train_res, y_test)\n",
        "#Predicciones con set de prueba\n",
        "pred_y = model.predict(X_test)\n",
        "#Predicciones con set de entrenamiento\n",
        "pred_Y = model.predict(X_train_res)\n",
        "#Mostrar matriz set de prueba\n",
        "mostrar_resultados_test(y_test, pred_y)\n",
        "#Mostramos las metricas del testing set\n",
        "print(classification_report(y_test, pred_y))"
      ]
    },
    {
      "cell_type": "code",
      "execution_count": null,
      "metadata": {
        "colab": {
          "base_uri": "https://localhost:8080/",
          "height": 886
        },
        "id": "qbP9NIjwfsv0",
        "outputId": "c11e5013-a347-4ef0-ba5f-a3091c86ce55"
      },
      "outputs": [
        {
          "data": {
            "image/png": "[encoded data removed]",
            "text/plain": [
              "<Figure size 864x864 with 2 Axes>"
            ]
          },
          "metadata": {
            "needs_background": "light"
          },
          "output_type": "display_data"
        },
        {
          "name": "stdout",
          "output_type": "stream",
          "text": [
            "              precision    recall  f1-score   support\n",
            "\n",
            "         0.0       0.69      0.95      0.80     32180\n",
            "         1.0       0.53      0.12      0.20     15883\n",
            "\n",
            "    accuracy                           0.67     48063\n",
            "   macro avg       0.61      0.54      0.50     48063\n",
            "weighted avg       0.64      0.67      0.60     48063\n",
            "\n"
          ]
        }
      ],
      "source": [
        "#Mostrar matriz set de prueba\n",
        "mostrar_resultados_test(y_train_res, pred_Y)\n",
        "#Mostramos las metricas del training set\n",
        "print(classification_report(y_train_res, pred_Y))"
      ]
    },
    {
      "cell_type": "code",
      "execution_count": null,
      "metadata": {
        "colab": {
          "base_uri": "https://localhost:8080/"
        },
        "id": "gj6SYLCDssXD",
        "outputId": "597dc708-27e3-421c-b362-85a526faae98"
      },
      "outputs": [
        {
          "data": {
            "text/plain": [
              "0.5353246039450499"
            ]
          },
          "execution_count": 57,
          "metadata": {},
          "output_type": "execute_result"
        }
      ],
      "source": [
        "# AUC para el testing set\n",
        "roc_auc_score(y_test, pred_y)"
      ]
    },
    {
      "cell_type": "code",
      "execution_count": null,
      "metadata": {
        "colab": {
          "base_uri": "https://localhost:8080/"
        },
        "id": "_9aAFCzseXNb",
        "outputId": "72b51e34-f5b1-413f-dc10-459bab5a15a1"
      },
      "outputs": [
        {
          "data": {
            "text/plain": [
              "0.5353431959942316"
            ]
          },
          "execution_count": 58,
          "metadata": {},
          "output_type": "execute_result"
        }
      ],
      "source": [
        "# AUC para el training set\n",
        "roc_auc_score(y_train_res, pred_Y)"
      ]
    },
    {
      "cell_type": "markdown",
      "metadata": {
        "id": "J-KnYVxdiJc5"
      },
      "source": [
        "# Conclusión\n",
        "* El mejor modelo de los realizados anteriormente es el tercero, el cual \n",
        "incluye un RandomForestClassifier con 300 arboles y una profunidad máxima de 15.\n",
        "* Este modelo arrasó al resto, los cuales en general no tenían certeza en sus predicciones hablando de la segunda clase, mientras que en el tercero según el área bajo la curva es un muy buen modelo con u 94,1% de certeza en sus predicciones.\n",
        "* Nos podemos dar cuenta que este tercer modelo puede mejorar aún mas aumentando la profunidad de los arboles, el problema es que el overfitting es evidente al ver que el accuracy es casi de 1. También pudimos notar que la diferencia entre los reportes de métricas del set de datos de prueba y entrenamiento no es tanta si nos fijamos en los accuracy, por esta parte se podría descartar el overfitting, pero por otra tenemos el gran cambio en la predicción del target 0, donde el f1-score aumentó notablemente mejorando todo el modelo.\n",
        "* Tratemos de no engañarnos a nosotros mismos aumentando la profunidad de los arboles, ya que, al hacer esto el modelo deja de aprender y empieza a memorizar quitandole toda fiabilidad a la predicción. \n",
        "* Probablemente el tercer modelo no sea el mejor simplemente por el desbalance de datos que hay entre los target, pero los modelos que tenian los datos balanceados, aún asi no lograron demostrar ser buenos modelos.\n"
      ]
    }
  ],
  "metadata": {
    "colab": {
      "collapsed_sections": [
        "DxV3WWuQi1kI",
        "Afo4ljfz7NvF",
        "x0SfyzWzI1sK",
        "MWAKugzodMtg",
        "1RgHcXQxWNla",
        "VD1ipMTkcKYS",
        "J-KnYVxdiJc5"
      ],
      "provenance": []
    },
    "kernelspec": {
      "display_name": "Python 3",
      "language": "python",
      "name": "python3"
    },
    "language_info": {
      "name": "python",
      "version": "3.11.0 (main, Oct 24 2022, 18:26:48) [MSC v.1933 64 bit (AMD64)]"
    },
    "vscode": {
      "interpreter": {
        "hash": "09b7759f04611a8a7c46c097fbf25f9bc85453538aa2f1644f02b065bc1bbeb0"
      }
    }
  },
  "nbformat": 4,
  "nbformat_minor": 0
}
